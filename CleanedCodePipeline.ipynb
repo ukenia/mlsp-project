{
  "nbformat": 4,
  "nbformat_minor": 0,
  "metadata": {
    "colab": {
      "name": "CleanedCodePipeline.ipynb",
      "provenance": [],
      "collapsed_sections": [],
      "machine_shape": "hm"
    },
    "kernelspec": {
      "display_name": "Python 3",
      "name": "python3"
    },
    "language_info": {
      "name": "python"
    }
  },
  "cells": [
    {
      "cell_type": "code",
      "metadata": {
        "id": "QHGCcZwPP85b"
      },
      "source": [
        "import numpy as np\n",
        "import random\n",
        "from google.colab import drive\n",
        "import json\n",
        "import time\n",
        "import pandas as pd\n",
        "import os\n",
        "import sys\n",
        "import librosa\n",
        "import soundfile as sf\n",
        "import xgboost\n",
        "from sklearn.preprocessing import LabelEncoder\n",
        "from sklearn.model_selection import train_test_split\n",
        "from sklearn.metrics import accuracy_score\n",
        "from matplotlib import pyplot"
      ],
      "execution_count": null,
      "outputs": []
    },
    {
      "cell_type": "code",
      "metadata": {
        "colab": {
          "base_uri": "https://localhost:8080/"
        },
        "id": "XroM1Bc6QYFF",
        "outputId": "3dbda8de-ae38-4c4f-c925-55a7534b1455"
      },
      "source": [
        "drive.mount('/content/gdrive')"
      ],
      "execution_count": null,
      "outputs": [
        {
          "name": "stdout",
          "output_type": "stream",
          "text": [
            "Mounted at /content/gdrive\n"
          ]
        }
      ]
    },
    {
      "cell_type": "code",
      "metadata": {
        "id": "XnCZr76OUQ3f"
      },
      "source": [
        "speaker_list = ['KENN',\n",
        " 'MCUR',\n",
        " 'JTAN',\n",
        " 'MPOL',\n",
        " 'MPUR',\n",
        " 'ADIZ',\n",
        " 'NJAT',\n",
        " 'PMAR',\n",
        " 'JLEE',\n",
        " 'SAMF',\n",
        " 'ZHIY']"
      ],
      "execution_count": null,
      "outputs": []
    },
    {
      "cell_type": "code",
      "metadata": {
        "id": "PAYeW9O-WaJ3"
      },
      "source": [
        "test_speaker = ['VKOW']"
      ],
      "execution_count": null,
      "outputs": []
    },
    {
      "cell_type": "code",
      "metadata": {
        "id": "pu5lAtpgXJU8"
      },
      "source": [
        "audio_array = []\n",
        "phoneme_array = []"
      ],
      "execution_count": null,
      "outputs": []
    },
    {
      "cell_type": "code",
      "metadata": {
        "colab": {
          "base_uri": "https://localhost:8080/"
        },
        "id": "_fYkJgIGDW8u",
        "outputId": "8fd43e71-60d0-4937-d069-9ccb805976f6"
      },
      "source": [
        "!cp -r /content/gdrive/MyDrive/nus-smc-corpus_48/ /content/"
      ],
      "execution_count": null,
      "outputs": [
        {
          "output_type": "stream",
          "name": "stdout",
          "text": [
            "^C\n"
          ]
        }
      ]
    },
    {
      "cell_type": "code",
      "metadata": {
        "id": "0Pq1J8qPWcZd"
      },
      "source": [
        "for sp in speaker_list:\n",
        "  for sig in os.listdir(\"/content/nus-smc-corpus_48/\"+str(sp)+\"/read/\"):\n",
        "    if '.wav' in sig:\n",
        "      song = sig.replace('.wav','')\n",
        "      df = pd.read_csv(\"/content/nus-smc-corpus_48/\"+str(sp)+\"/read/\"+str(song)+\".txt\", delimiter=\" \", header=None, names=['start', 'end', 'phoneme'])\n",
        "      audio, sr = librosa.load(\"/content/nus-smc-corpus_48/\"+str(sp)+\"/read/\"+str(sig), sr=None)\n",
        "      audio = audio[:int(df['end'].iloc[-1]*sr)]\n",
        "\n",
        "      for idx, row in df.iterrows():\n",
        "        for i in range(int(row['start']*100),int(row['end']*100)):\n",
        "          reqd_audio = audio[int(i/100*sr):int((i+1)/100*sr)]\n",
        "          spectrogram = librosa.stft(reqd_audio, n_fft=256, hop_length=256, center=False, win_length=256)\n",
        "          M = abs(spectrogram)\n",
        "          audio_array.append(M)\n",
        "          phoneme_array.append(row['phoneme'])"
      ],
      "execution_count": null,
      "outputs": []
    },
    {
      "cell_type": "code",
      "metadata": {
        "id": "xoK_YRZKewOi"
      },
      "source": [
        "# one_hot = np.eye(40)"
      ],
      "execution_count": null,
      "outputs": []
    },
    {
      "cell_type": "code",
      "metadata": {
        "id": "WM6eNxb6e7lS"
      },
      "source": [
        "# one_hot_dict = {}\n",
        "# for idx, ph in enumerate(set(phoneme_array)):\n",
        "#   one_hot_dict[ph] = one_hot[idx,:]"
      ],
      "execution_count": null,
      "outputs": []
    },
    {
      "cell_type": "code",
      "metadata": {
        "id": "z3hJRr7DLajZ"
      },
      "source": [
        "params = {'learning_rate':0.1, 'verbose':True}"
      ],
      "execution_count": null,
      "outputs": []
    },
    {
      "cell_type": "code",
      "metadata": {
        "id": "s3FXM9sgoGnE"
      },
      "source": [
        "final_audio = np.array(audio_array)\n",
        "final_audio = final_audio.reshape(final_audio.shape[0], final_audio.shape[1])"
      ],
      "execution_count": null,
      "outputs": []
    },
    {
      "cell_type": "code",
      "metadata": {
        "id": "Kyl6hsbkL1tg"
      },
      "source": [
        "label_encoder = LabelEncoder()\n",
        "label_encoder = label_encoder.fit(phoneme_array)\n",
        "label_encoded_y = label_encoder.transform(phoneme_array)"
      ],
      "execution_count": null,
      "outputs": []
    },
    {
      "cell_type": "code",
      "metadata": {
        "id": "M-bjrOTlrecF"
      },
      "source": [
        "train_X, test_X, train_Y, test_Y = train_test_split(final_audio, label_encoded_y, test_size=0.25, random_state=11755)"
      ],
      "execution_count": null,
      "outputs": []
    },
    {
      "cell_type": "code",
      "metadata": {
        "colab": {
          "base_uri": "https://localhost:8080/"
        },
        "id": "8g_xkrBKr0q6",
        "outputId": "886d4f23-07af-40ed-a905-f5db55441ad9"
      },
      "source": [
        "eval_set = [(train_X, train_Y), (test_X, test_Y)]\n",
        "model = xgboost.XGBClassifier(**params)\n",
        "model.fit(train_X, train_Y, early_stopping_rounds=2, eval_metric=[\"merror\"], eval_set=eval_set, verbose=True)"
      ],
      "execution_count": null,
      "outputs": [
        {
          "output_type": "stream",
          "name": "stdout",
          "text": [
            "[0]\tvalidation_0-merror:0.584538\tvalidation_1-merror:0.585931\n",
            "Multiple eval metrics have been passed: 'validation_1-merror' will be used for early stopping.\n",
            "\n",
            "Will train until validation_1-merror hasn't improved in 2 rounds.\n",
            "[1]\tvalidation_0-merror:0.570385\tvalidation_1-merror:0.573434\n",
            "[2]\tvalidation_0-merror:0.563907\tvalidation_1-merror:0.566228\n",
            "[3]\tvalidation_0-merror:0.560344\tvalidation_1-merror:0.562518\n",
            "[4]\tvalidation_0-merror:0.557531\tvalidation_1-merror:0.560495\n",
            "[5]\tvalidation_0-merror:0.555647\tvalidation_1-merror:0.558124\n",
            "[6]\tvalidation_0-merror:0.554209\tvalidation_1-merror:0.556838\n",
            "[7]\tvalidation_0-merror:0.552754\tvalidation_1-merror:0.555673\n",
            "[8]\tvalidation_0-merror:0.551057\tvalidation_1-merror:0.553985\n",
            "[9]\tvalidation_0-merror:0.549981\tvalidation_1-merror:0.552633\n",
            "[10]\tvalidation_0-merror:0.548865\tvalidation_1-merror:0.551628\n",
            "[11]\tvalidation_0-merror:0.547793\tvalidation_1-merror:0.550744\n",
            "[12]\tvalidation_0-merror:0.546481\tvalidation_1-merror:0.549619\n",
            "[13]\tvalidation_0-merror:0.545516\tvalidation_1-merror:0.548775\n",
            "[14]\tvalidation_0-merror:0.544646\tvalidation_1-merror:0.547904\n",
            "[15]\tvalidation_0-merror:0.543824\tvalidation_1-merror:0.547623\n",
            "[16]\tvalidation_0-merror:0.543029\tvalidation_1-merror:0.546766\n",
            "[17]\tvalidation_0-merror:0.542306\tvalidation_1-merror:0.545735\n",
            "[18]\tvalidation_0-merror:0.541154\tvalidation_1-merror:0.544824\n",
            "[19]\tvalidation_0-merror:0.54006\tvalidation_1-merror:0.543926\n",
            "[20]\tvalidation_0-merror:0.539056\tvalidation_1-merror:0.543444\n",
            "[21]\tvalidation_0-merror:0.538274\tvalidation_1-merror:0.542399\n",
            "[22]\tvalidation_0-merror:0.537002\tvalidation_1-merror:0.541542\n",
            "[23]\tvalidation_0-merror:0.536328\tvalidation_1-merror:0.540873\n",
            "[24]\tvalidation_0-merror:0.535716\tvalidation_1-merror:0.540658\n",
            "[25]\tvalidation_0-merror:0.534734\tvalidation_1-merror:0.53964\n",
            "[26]\tvalidation_0-merror:0.533756\tvalidation_1-merror:0.539145\n",
            "[27]\tvalidation_0-merror:0.532885\tvalidation_1-merror:0.538073\n",
            "[28]\tvalidation_0-merror:0.532171\tvalidation_1-merror:0.53747\n",
            "[29]\tvalidation_0-merror:0.531282\tvalidation_1-merror:0.536854\n",
            "[30]\tvalidation_0-merror:0.530653\tvalidation_1-merror:0.536385\n",
            "[31]\tvalidation_0-merror:0.529898\tvalidation_1-merror:0.535649\n",
            "[32]\tvalidation_0-merror:0.529229\tvalidation_1-merror:0.534792\n",
            "[33]\tvalidation_0-merror:0.528211\tvalidation_1-merror:0.534617\n",
            "[34]\tvalidation_0-merror:0.52742\tvalidation_1-merror:0.533841\n",
            "[35]\tvalidation_0-merror:0.526581\tvalidation_1-merror:0.533251\n",
            "[36]\tvalidation_0-merror:0.525804\tvalidation_1-merror:0.532581\n",
            "[37]\tvalidation_0-merror:0.524858\tvalidation_1-merror:0.531965\n",
            "[38]\tvalidation_0-merror:0.52417\tvalidation_1-merror:0.531269\n",
            "[39]\tvalidation_0-merror:0.523509\tvalidation_1-merror:0.531095\n",
            "[40]\tvalidation_0-merror:0.522639\tvalidation_1-merror:0.530224\n",
            "[41]\tvalidation_0-merror:0.521857\tvalidation_1-merror:0.529621\n",
            "[42]\tvalidation_0-merror:0.521339\tvalidation_1-merror:0.529019\n",
            "[43]\tvalidation_0-merror:0.520598\tvalidation_1-merror:0.528389\n",
            "[44]\tvalidation_0-merror:0.519862\tvalidation_1-merror:0.5278\n",
            "[45]\tvalidation_0-merror:0.51925\tvalidation_1-merror:0.527385\n",
            "[46]\tvalidation_0-merror:0.518495\tvalidation_1-merror:0.527023\n",
            "[47]\tvalidation_0-merror:0.517772\tvalidation_1-merror:0.526581\n",
            "[48]\tvalidation_0-merror:0.517013\tvalidation_1-merror:0.526032\n",
            "[49]\tvalidation_0-merror:0.516361\tvalidation_1-merror:0.52571\n",
            "[50]\tvalidation_0-merror:0.51583\tvalidation_1-merror:0.525549\n",
            "[51]\tvalidation_0-merror:0.515187\tvalidation_1-merror:0.525241\n",
            "[52]\tvalidation_0-merror:0.514794\tvalidation_1-merror:0.524451\n",
            "[53]\tvalidation_0-merror:0.514307\tvalidation_1-merror:0.52429\n",
            "[54]\tvalidation_0-merror:0.513642\tvalidation_1-merror:0.524103\n",
            "[55]\tvalidation_0-merror:0.512968\tvalidation_1-merror:0.523688\n",
            "[56]\tvalidation_0-merror:0.512446\tvalidation_1-merror:0.523058\n",
            "[57]\tvalidation_0-merror:0.511767\tvalidation_1-merror:0.522576\n",
            "[58]\tvalidation_0-merror:0.51112\tvalidation_1-merror:0.522214\n",
            "[59]\tvalidation_0-merror:0.510682\tvalidation_1-merror:0.521759\n",
            "[60]\tvalidation_0-merror:0.510146\tvalidation_1-merror:0.521317\n",
            "[61]\tvalidation_0-merror:0.509776\tvalidation_1-merror:0.521156\n",
            "[62]\tvalidation_0-merror:0.509311\tvalidation_1-merror:0.520728\n",
            "[63]\tvalidation_0-merror:0.508865\tvalidation_1-merror:0.520553\n",
            "[64]\tvalidation_0-merror:0.508316\tvalidation_1-merror:0.519911\n",
            "[65]\tvalidation_0-merror:0.507914\tvalidation_1-merror:0.519696\n",
            "[66]\tvalidation_0-merror:0.507195\tvalidation_1-merror:0.518986\n",
            "[67]\tvalidation_0-merror:0.506637\tvalidation_1-merror:0.518812\n",
            "[68]\tvalidation_0-merror:0.506284\tvalidation_1-merror:0.518544\n",
            "[69]\tvalidation_0-merror:0.505927\tvalidation_1-merror:0.518142\n",
            "[70]\tvalidation_0-merror:0.505436\tvalidation_1-merror:0.517526\n",
            "[71]\tvalidation_0-merror:0.505195\tvalidation_1-merror:0.5175\n",
            "[72]\tvalidation_0-merror:0.504262\tvalidation_1-merror:0.517593\n",
            "[73]\tvalidation_0-merror:0.50386\tvalidation_1-merror:0.517004\n",
            "[74]\tvalidation_0-merror:0.503293\tvalidation_1-merror:0.516736\n",
            "[75]\tvalidation_0-merror:0.503007\tvalidation_1-merror:0.516321\n",
            "[76]\tvalidation_0-merror:0.50248\tvalidation_1-merror:0.516267\n",
            "[77]\tvalidation_0-merror:0.502034\tvalidation_1-merror:0.515906\n",
            "[78]\tvalidation_0-merror:0.501516\tvalidation_1-merror:0.515812\n",
            "[79]\tvalidation_0-merror:0.501105\tvalidation_1-merror:0.515665\n",
            "[80]\tvalidation_0-merror:0.500752\tvalidation_1-merror:0.51529\n",
            "[81]\tvalidation_0-merror:0.500404\tvalidation_1-merror:0.514981\n",
            "[82]\tvalidation_0-merror:0.500092\tvalidation_1-merror:0.514941\n",
            "[83]\tvalidation_0-merror:0.499721\tvalidation_1-merror:0.514526\n",
            "[84]\tvalidation_0-merror:0.499333\tvalidation_1-merror:0.514245\n",
            "[85]\tvalidation_0-merror:0.499056\tvalidation_1-merror:0.51391\n",
            "[86]\tvalidation_0-merror:0.498582\tvalidation_1-merror:0.513629\n",
            "[87]\tvalidation_0-merror:0.49823\tvalidation_1-merror:0.513401\n",
            "[88]\tvalidation_0-merror:0.49798\tvalidation_1-merror:0.513173\n",
            "[89]\tvalidation_0-merror:0.497707\tvalidation_1-merror:0.512825\n",
            "[90]\tvalidation_0-merror:0.497404\tvalidation_1-merror:0.512624\n",
            "[91]\tvalidation_0-merror:0.496913\tvalidation_1-merror:0.51249\n",
            "[92]\tvalidation_0-merror:0.496475\tvalidation_1-merror:0.51249\n",
            "[93]\tvalidation_0-merror:0.496154\tvalidation_1-merror:0.512182\n",
            "[94]\tvalidation_0-merror:0.495899\tvalidation_1-merror:0.511861\n",
            "[95]\tvalidation_0-merror:0.495627\tvalidation_1-merror:0.51166\n",
            "[96]\tvalidation_0-merror:0.495354\tvalidation_1-merror:0.511177\n",
            "[97]\tvalidation_0-merror:0.494912\tvalidation_1-merror:0.51095\n",
            "[98]\tvalidation_0-merror:0.494479\tvalidation_1-merror:0.510602\n",
            "[99]\tvalidation_0-merror:0.494171\tvalidation_1-merror:0.510548\n"
          ]
        },
        {
          "output_type": "execute_result",
          "data": {
            "text/plain": [
              "XGBClassifier(objective='multi:softprob', verbose=True)"
            ]
          },
          "metadata": {},
          "execution_count": 11
        }
      ]
    },
    {
      "cell_type": "code",
      "metadata": {
        "id": "MszYC2DYfpTs"
      },
      "source": [
        "# fit model no training data\n",
        "model = xgboost.XGBClassifier(**params)\n",
        "model.fit(final_audio, label_encoded_y, verbose=True)"
      ],
      "execution_count": null,
      "outputs": []
    },
    {
      "cell_type": "code",
      "metadata": {
        "id": "x3YQkmuUw3qz"
      },
      "source": [
        "model.save_model(\"/content/gdrive/MyDrive/xgboost_model.json\")"
      ],
      "execution_count": null,
      "outputs": []
    },
    {
      "cell_type": "code",
      "metadata": {
        "id": "anRJZbfppOE5"
      },
      "source": [
        "# new_phoneme = []\n",
        "# for ph in phoneme_array:\n",
        "#   new_phoneme.append(int(np.where(ph==1.)[0]))"
      ],
      "execution_count": null,
      "outputs": []
    },
    {
      "cell_type": "code",
      "metadata": {
        "id": "WbYO980yqSkJ"
      },
      "source": [
        "preds = model.predict(final_audio[:1000])"
      ],
      "execution_count": null,
      "outputs": []
    },
    {
      "cell_type": "code",
      "metadata": {
        "colab": {
          "base_uri": "https://localhost:8080/"
        },
        "id": "SdEaEcc0__8w",
        "outputId": "11ded708-ec23-40da-b492-ef2673935b0c"
      },
      "source": [
        "sum(label_encoded_y[:1000] == preds)"
      ],
      "execution_count": null,
      "outputs": [
        {
          "output_type": "execute_result",
          "data": {
            "text/plain": [
              "525"
            ]
          },
          "metadata": {},
          "execution_count": 19
        }
      ]
    },
    {
      "cell_type": "code",
      "metadata": {
        "colab": {
          "base_uri": "https://localhost:8080/"
        },
        "id": "pChUcscHBKy4",
        "outputId": "b00fb7ae-2806-4f44-85df-f705f0f9a1ec"
      },
      "source": [
        "525/1000"
      ],
      "execution_count": null,
      "outputs": [
        {
          "output_type": "execute_result",
          "data": {
            "text/plain": [
              "0.525"
            ]
          },
          "metadata": {},
          "execution_count": 20
        }
      ]
    },
    {
      "cell_type": "code",
      "metadata": {
        "id": "_lG7GGwUBRAG"
      },
      "source": [
        "audio_array_test = []\n",
        "phoneme_array_test = []"
      ],
      "execution_count": null,
      "outputs": []
    },
    {
      "cell_type": "code",
      "metadata": {
        "id": "UnKGhXcxQLaR"
      },
      "source": [
        "for sp in test_speaker:\n",
        "  for sig in os.listdir(\"/content/nus-smc-corpus_48/\"+str(sp)+\"/read/\"):\n",
        "    if '.wav' in sig:\n",
        "      song = sig.replace('.wav','')\n",
        "      df = pd.read_csv(\"/content/nus-smc-corpus_48/\"+str(sp)+\"/read/\"+str(song)+\".txt\", delimiter=\" \", header=None, names=['start', 'end', 'phoneme'])\n",
        "      audio, sr = librosa.load(\"/content/nus-smc-corpus_48/\"+str(sp)+\"/read/\"+str(sig), sr=None)\n",
        "      audio = audio[:int(df['end'].iloc[-1]*sr)]\n",
        "\n",
        "      for idx, row in df.iterrows():\n",
        "        for i in range(int(row['start']*100),int(row['end']*100)):\n",
        "          reqd_audio = audio[int(i/100*sr):int((i+1)/100*sr)]\n",
        "          spectrogram = librosa.stft(reqd_audio, n_fft=256, hop_length=256, center=False, win_length=256)\n",
        "          M = abs(spectrogram)\n",
        "          audio_array_test.append(M)\n",
        "          phoneme_array_test.append(row['phoneme'])"
      ],
      "execution_count": null,
      "outputs": []
    },
    {
      "cell_type": "code",
      "metadata": {
        "id": "L5el2Az1QV1_"
      },
      "source": [
        "final_audio_test = np.array(audio_array_test)\n",
        "final_audio_test = final_audio_test.reshape(final_audio_test.shape[0], final_audio_test.shape[1])\n",
        "label_encoded_y_test = label_encoder.transform(phoneme_array_test)"
      ],
      "execution_count": null,
      "outputs": []
    },
    {
      "cell_type": "code",
      "metadata": {
        "id": "ZE0dE1V6Qj8v"
      },
      "source": [
        "preds_test = model.predict(final_audio_test)"
      ],
      "execution_count": null,
      "outputs": []
    },
    {
      "cell_type": "code",
      "metadata": {
        "colab": {
          "base_uri": "https://localhost:8080/"
        },
        "id": "2PhWwP-HQvTy",
        "outputId": "ba5d46b1-e7eb-4a3c-9d51-6fd3ab5f9786"
      },
      "source": [
        "sum(preds_test==label_encoded_y_test)/len(label_encoded_y_test)"
      ],
      "execution_count": null,
      "outputs": [
        {
          "output_type": "execute_result",
          "data": {
            "text/plain": [
              "0.47689965089504566"
            ]
          },
          "metadata": {},
          "execution_count": 30
        }
      ]
    },
    {
      "cell_type": "code",
      "metadata": {
        "colab": {
          "base_uri": "https://localhost:8080/"
        },
        "id": "ifIVeZmtQ2xG",
        "outputId": "6d262b53-fa5f-4ba4-c208-968ac97acfe5"
      },
      "source": [
        "preds"
      ],
      "execution_count": null,
      "outputs": [
        {
          "output_type": "execute_result",
          "data": {
            "text/plain": [
              "array([30, 30, 30, 30, 30, 30, 30, 30, 30, 30, 30, 30, 30, 30, 30, 30, 30,\n",
              "       30, 30, 30, 30, 30, 30, 30, 30, 30, 30, 30, 30, 30, 30, 30, 30, 30,\n",
              "       30, 30, 30, 30, 30, 30, 30, 30, 30, 30, 30, 30, 30, 30, 30, 30, 30,\n",
              "       30, 30, 30, 30, 30, 30, 30, 30, 30, 30, 30, 30, 30, 30, 30, 30, 30,\n",
              "       30, 30, 30, 30, 30, 30, 30, 30, 30, 30, 30, 30, 30, 30, 30, 30, 30,\n",
              "       30, 30, 30, 30, 30, 30, 30, 30, 30, 30, 30, 30, 30, 30, 30, 30, 30,\n",
              "       30, 30, 30, 30, 30, 30, 30, 30, 30, 30, 30, 30, 30, 30, 30, 30, 30,\n",
              "       30, 30, 30, 30, 30, 30, 30, 30, 30, 30, 30, 30, 30, 30, 30, 30, 30,\n",
              "       30, 30, 30, 30, 30, 30, 30, 30, 30, 30, 28, 28, 28, 28, 28, 28, 28,\n",
              "       28, 28, 28, 28, 28, 28, 28, 22,  5,  5,  5,  5,  5,  5,  5,  5,  5,\n",
              "        5,  5,  2,  2,  2, 20, 20,  2, 20,  2, 22,  2,  2, 10, 10,  2,  2,\n",
              "        2, 30, 30, 30, 30, 30, 30, 30, 30, 30, 30, 22, 22, 22, 22, 22, 22,\n",
              "       22, 22,  2,  2,  2,  2,  5,  5,  5,  5,  5, 10, 12, 17, 17, 17, 22,\n",
              "        5, 30, 30, 30, 30, 30, 30, 30, 30, 30, 28, 29, 28, 28, 30, 30, 30,\n",
              "       30, 30, 30, 30, 30, 30, 30, 30, 30, 30, 30, 30, 30, 30, 30, 30, 30,\n",
              "       30, 30, 30, 24, 24, 24, 24, 20, 20, 20, 20, 24, 24, 20, 20, 24, 20,\n",
              "       20, 22, 20, 20, 24,  2, 20,  5, 16, 17, 17, 17, 17, 17, 17, 22, 22,\n",
              "       21, 21, 21, 21, 22, 22,  2,  2,  2,  5,  0,  5,  5,  5, 21, 22, 22,\n",
              "       22, 22,  5, 17, 17, 17, 17, 22, 30, 30, 30, 31, 30, 30, 30, 30, 28,\n",
              "       28, 28, 30, 28, 30, 30, 30, 30, 30, 30, 30, 30, 30, 30, 30, 30, 30,\n",
              "       30, 30, 30, 30, 30, 30, 30, 30, 30, 24,  3, 24,  3,  3,  2,  3,  3,\n",
              "        3,  3,  3,  3,  3, 24,  3,  5, 24, 24, 24, 24, 20, 24, 20,  2,  2,\n",
              "       24,  2,  2,  2,  2,  2, 28, 38, 28, 28, 28, 28, 28, 30, 30, 30, 30,\n",
              "       30, 30, 19, 30, 19, 15, 15, 15, 15, 15, 30,  2,  2,  0,  3,  3,  3,\n",
              "        3,  3,  3,  3,  3,  3,  3,  3,  3,  3,  3,  3,  3,  3, 24,  5,  5,\n",
              "       21, 21, 21, 21, 21, 21, 22, 30, 30, 30, 30, 30, 30, 30, 30, 30, 30,\n",
              "       30, 30, 30, 30, 36, 24, 30, 30, 30, 24, 22, 30,  3,  3,  3,  3,  3,\n",
              "        3,  3, 24, 24,  3, 24,  3, 24, 24, 24, 24, 24, 24, 24, 24, 24, 24,\n",
              "       20, 20, 20, 20,  2,  2,  2, 28, 28, 28, 28, 18,  7, 30, 30, 30, 30,\n",
              "       30, 30, 30, 30, 30, 30, 15, 30, 27, 27, 27, 27, 27, 27,  5,  5, 27,\n",
              "        5,  5,  5,  5, 22, 22, 22, 30, 22, 30, 30, 31, 30, 30, 30, 30,  7,\n",
              "       30, 30, 30, 30, 30, 30, 30, 30, 30, 30, 30, 30, 30, 30, 30, 30, 30,\n",
              "       30, 30, 30, 30, 30, 30, 30, 30, 30, 30, 30, 30, 30, 30, 30, 30, 30,\n",
              "       30, 30, 30, 30, 30, 30, 30, 30, 30, 30, 30, 30, 30, 30, 30, 30, 30,\n",
              "       30, 30, 30, 36, 36, 36, 27, 27, 27, 27,  5,  5,  5,  5,  5,  5,  5,\n",
              "        5,  5,  5,  0,  5,  5,  0, 24,  2,  2, 21, 22, 22, 22, 22, 22, 30,\n",
              "       17, 17, 17, 17, 17, 17, 17, 17,  2,  2,  2,  5,  5,  5,  0,  5,  0,\n",
              "       11,  5, 21, 22, 21,  2, 22, 22, 11, 21, 21, 21, 27, 30, 30, 30, 30,\n",
              "       27, 11, 11, 11, 11, 11, 11, 27,  5, 27, 27, 27, 11, 27, 27, 11, 22,\n",
              "       11, 22, 22, 30, 30, 29, 29, 29, 29, 30, 30, 16, 16, 16, 16, 16, 11,\n",
              "       22, 22, 30, 22, 22, 22, 22, 22, 22, 22, 22, 22, 22, 22, 21, 21, 21,\n",
              "       21, 21, 21, 21, 22, 24, 24, 24,  3, 24,  2,  2, 24,  2, 28, 30, 30,\n",
              "       15,  5,  2,  2, 11, 11, 11, 11, 11, 27, 27, 27, 27, 27, 11, 11, 22,\n",
              "       22,  5, 30, 27, 22,  5,  2, 22,  5,  2,  2, 22, 22, 22, 22, 22, 22,\n",
              "       22, 22,  8, 30, 30, 29, 29, 18, 29, 30, 30, 30, 30, 30, 15, 30, 15,\n",
              "        3,  5,  5,  5,  5,  5,  5,  5,  5,  5,  5,  5,  5,  5,  5,  5,  5,\n",
              "        2,  5, 24, 24, 24, 24, 24, 36, 20, 22, 30, 30, 30, 30, 30, 30, 30,\n",
              "       30, 30, 30, 30, 30, 30, 30, 30, 30, 30, 30, 30, 30, 30, 30, 30, 30,\n",
              "       30, 30, 30, 30, 30, 30, 30, 30, 30, 30, 30, 30, 30, 30, 30, 30, 30,\n",
              "       30, 30, 30, 30, 30, 30, 24, 30, 30, 30, 24, 20, 20, 36, 24, 36, 24,\n",
              "       20, 20, 20, 20, 20, 24, 24, 24, 24, 24, 20, 20, 20, 20, 20, 20, 20,\n",
              "        2, 17, 17, 17, 17, 17, 17, 17, 17, 17, 17, 22, 17, 17, 17, 17, 16,\n",
              "       17, 16,  2, 10, 16, 22, 22, 21, 22, 22, 22, 22, 22, 22, 22, 30, 28,\n",
              "       13, 13, 30, 13, 30, 19, 30, 30, 22, 10, 22, 22, 22, 22, 22, 22, 22,\n",
              "       22, 22, 22, 22, 22, 21, 22, 30, 28, 30, 28, 28, 30, 30, 22, 30, 30,\n",
              "       30, 30, 30, 30, 30, 30, 30, 30, 30, 30, 30, 28, 28, 28, 28, 28, 28,\n",
              "       28, 28, 28, 28, 28, 30, 30,  2,  2,  5,  0, 21,  5,  5,  2,  2, 27,\n",
              "       24, 24, 22, 22, 30, 30, 30, 30, 28, 28, 30, 30, 30, 15, 30, 30, 10,\n",
              "        5, 10,  2, 22, 22, 22, 22, 22, 22, 22, 21, 22, 22, 22])"
            ]
          },
          "metadata": {},
          "execution_count": 31
        }
      ]
    },
    {
      "cell_type": "code",
      "metadata": {
        "id": "_HyvwbeSa_gb"
      },
      "source": [
        ""
      ],
      "execution_count": null,
      "outputs": []
    }
  ]
}