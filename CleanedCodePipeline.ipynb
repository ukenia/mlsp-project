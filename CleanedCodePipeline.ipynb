{
  "nbformat": 4,
  "nbformat_minor": 0,
  "metadata": {
    "colab": {
      "name": "CleanedCodePipeline.ipynb",
      "provenance": [],
      "collapsed_sections": []
    },
    "kernelspec": {
      "name": "python3",
      "display_name": "Python 3"
    },
    "language_info": {
      "name": "python"
    }
  },
  "cells": [
    {
      "cell_type": "code",
      "metadata": {
        "id": "QHGCcZwPP85b"
      },
      "source": [
        "import numpy as np\n",
        "import random\n",
        "from google.colab import drive\n",
        "import json\n",
        "import time\n",
        "import pandas as pd\n",
        "import os\n",
        "import sys\n",
        "import librosa\n",
        "import soundfile as sf\n",
        "import xgboost"
      ],
      "execution_count": 89,
      "outputs": []
    },
    {
      "cell_type": "code",
      "metadata": {
        "colab": {
          "base_uri": "https://localhost:8080/"
        },
        "id": "XroM1Bc6QYFF",
        "outputId": "bf29be79-45f2-417e-8819-ae76c0cadc14"
      },
      "source": [
        "drive.mount('/content/gdrive')"
      ],
      "execution_count": 2,
      "outputs": [
        {
          "output_type": "stream",
          "name": "stdout",
          "text": [
            "Mounted at /content/gdrive\n"
          ]
        }
      ]
    },
    {
      "cell_type": "code",
      "metadata": {
        "colab": {
          "base_uri": "https://localhost:8080/"
        },
        "id": "17eAwTdJQd2N",
        "outputId": "33bc63f5-0405-478a-c374-20fbab5473de"
      },
      "source": [
        "for speaker in os.listdir(\"/content/gdrive/MyDrive/nus-smc-corpus_48/\"):\n",
        "  if '.txt' not in speaker:\n",
        "    for "
      ],
      "execution_count": 9,
      "outputs": [
        {
          "output_type": "stream",
          "name": "stdout",
          "text": [
            "KENN\n",
            "MCUR\n",
            "JTAN\n",
            "MPOL\n",
            "MPUR\n",
            "ADIZ\n",
            "NJAT\n",
            "PMAR\n",
            "JLEE\n",
            "SAMF\n",
            "ZHIY\n",
            "VKOW\n"
          ]
        }
      ]
    },
    {
      "cell_type": "code",
      "metadata": {
        "id": "iy6p0hEYQvmg"
      },
      "source": [
        "read_df = pd.read_csv(\"/content/gdrive/MyDrive/nus-smc-corpus_48/ADIZ/read/09.txt\", delimiter=\" \", header=None, names=['start', 'end', 'phoneme'])"
      ],
      "execution_count": 29,
      "outputs": []
    },
    {
      "cell_type": "code",
      "metadata": {
        "colab": {
          "base_uri": "https://localhost:8080/",
          "height": 419
        },
        "id": "mgBcksrCTjCZ",
        "outputId": "e53cc679-846d-44ee-b6ce-fc9261be0da6"
      },
      "source": [
        "read_df"
      ],
      "execution_count": 30,
      "outputs": [
        {
          "output_type": "execute_result",
          "data": {
            "text/html": [
              "<div>\n",
              "<style scoped>\n",
              "    .dataframe tbody tr th:only-of-type {\n",
              "        vertical-align: middle;\n",
              "    }\n",
              "\n",
              "    .dataframe tbody tr th {\n",
              "        vertical-align: top;\n",
              "    }\n",
              "\n",
              "    .dataframe thead th {\n",
              "        text-align: right;\n",
              "    }\n",
              "</style>\n",
              "<table border=\"1\" class=\"dataframe\">\n",
              "  <thead>\n",
              "    <tr style=\"text-align: right;\">\n",
              "      <th></th>\n",
              "      <th>start</th>\n",
              "      <th>end</th>\n",
              "      <th>phoneme</th>\n",
              "    </tr>\n",
              "  </thead>\n",
              "  <tbody>\n",
              "    <tr>\n",
              "      <th>0</th>\n",
              "      <td>0.00</td>\n",
              "      <td>1.05</td>\n",
              "      <td>sil</td>\n",
              "    </tr>\n",
              "    <tr>\n",
              "      <th>1</th>\n",
              "      <td>1.05</td>\n",
              "      <td>1.21</td>\n",
              "      <td>l</td>\n",
              "    </tr>\n",
              "    <tr>\n",
              "      <th>2</th>\n",
              "      <td>1.21</td>\n",
              "      <td>1.32</td>\n",
              "      <td>ah</td>\n",
              "    </tr>\n",
              "    <tr>\n",
              "      <th>3</th>\n",
              "      <td>1.32</td>\n",
              "      <td>1.37</td>\n",
              "      <td>v</td>\n",
              "    </tr>\n",
              "    <tr>\n",
              "      <th>4</th>\n",
              "      <td>1.37</td>\n",
              "      <td>1.39</td>\n",
              "      <td>sil</td>\n",
              "    </tr>\n",
              "    <tr>\n",
              "      <th>...</th>\n",
              "      <td>...</td>\n",
              "      <td>...</td>\n",
              "      <td>...</td>\n",
              "    </tr>\n",
              "    <tr>\n",
              "      <th>412</th>\n",
              "      <td>37.61</td>\n",
              "      <td>37.76</td>\n",
              "      <td>y</td>\n",
              "    </tr>\n",
              "    <tr>\n",
              "      <th>413</th>\n",
              "      <td>37.76</td>\n",
              "      <td>37.80</td>\n",
              "      <td>uw</td>\n",
              "    </tr>\n",
              "    <tr>\n",
              "      <th>414</th>\n",
              "      <td>37.80</td>\n",
              "      <td>37.90</td>\n",
              "      <td>g</td>\n",
              "    </tr>\n",
              "    <tr>\n",
              "      <th>415</th>\n",
              "      <td>37.90</td>\n",
              "      <td>38.17</td>\n",
              "      <td>ow</td>\n",
              "    </tr>\n",
              "    <tr>\n",
              "      <th>416</th>\n",
              "      <td>38.17</td>\n",
              "      <td>38.92</td>\n",
              "      <td>sil</td>\n",
              "    </tr>\n",
              "  </tbody>\n",
              "</table>\n",
              "<p>417 rows × 3 columns</p>\n",
              "</div>"
            ],
            "text/plain": [
              "     start    end phoneme\n",
              "0     0.00   1.05     sil\n",
              "1     1.05   1.21       l\n",
              "2     1.21   1.32      ah\n",
              "3     1.32   1.37       v\n",
              "4     1.37   1.39     sil\n",
              "..     ...    ...     ...\n",
              "412  37.61  37.76       y\n",
              "413  37.76  37.80      uw\n",
              "414  37.80  37.90       g\n",
              "415  37.90  38.17      ow\n",
              "416  38.17  38.92     sil\n",
              "\n",
              "[417 rows x 3 columns]"
            ]
          },
          "metadata": {},
          "execution_count": 30
        }
      ]
    },
    {
      "cell_type": "code",
      "metadata": {
        "id": "GPhuRD28Q_Db"
      },
      "source": [
        "audioS, srS = librosa.load(\"/content/gdrive/MyDrive/nus-smc-corpus_48/ADIZ/read/01.wav\", sr=None)\n",
        "spectrogramS = librosa.stft(audioS, n_fft=2048, hop_length=256, center=False, win_length=2048)\n",
        "MS = abs(spectrogramS)\n",
        "phaseS = spectrogramS/(MS + 2.2204e-16)"
      ],
      "execution_count": 16,
      "outputs": []
    },
    {
      "cell_type": "code",
      "metadata": {
        "colab": {
          "base_uri": "https://localhost:8080/"
        },
        "id": "ZET4qD5oS6XG",
        "outputId": "667ecca9-f6d5-4f73-ee78-b92acb5c5048"
      },
      "source": [
        "audioS.shape"
      ],
      "execution_count": 18,
      "outputs": [
        {
          "output_type": "execute_result",
          "data": {
            "text/plain": [
              "(902484,)"
            ]
          },
          "metadata": {},
          "execution_count": 18
        }
      ]
    },
    {
      "cell_type": "code",
      "metadata": {
        "colab": {
          "base_uri": "https://localhost:8080/"
        },
        "id": "Sf2drl_QTAaz",
        "outputId": "5448aeec-3f03-45e3-d538-bb8516f06c4e"
      },
      "source": [
        "srS"
      ],
      "execution_count": 19,
      "outputs": [
        {
          "output_type": "execute_result",
          "data": {
            "text/plain": [
              "44100"
            ]
          },
          "metadata": {},
          "execution_count": 19
        }
      ]
    },
    {
      "cell_type": "code",
      "metadata": {
        "colab": {
          "base_uri": "https://localhost:8080/"
        },
        "id": "6RJEL4ppTCy3",
        "outputId": "7a80e981-e2bd-40e0-be7d-d910511e2b9e"
      },
      "source": [
        "audioS.shape[0]/read_df['end'][183]"
      ],
      "execution_count": 25,
      "outputs": [
        {
          "output_type": "execute_result",
          "data": {
            "text/plain": [
              "44152.837573385514"
            ]
          },
          "metadata": {},
          "execution_count": 25
        }
      ]
    },
    {
      "cell_type": "code",
      "metadata": {
        "colab": {
          "base_uri": "https://localhost:8080/"
        },
        "id": "xvYSva2RTGQ9",
        "outputId": "422c5ea8-74a5-404d-899a-55c1076b333f"
      },
      "source": [
        "read_df['end'][183]"
      ],
      "execution_count": 24,
      "outputs": [
        {
          "output_type": "execute_result",
          "data": {
            "text/plain": [
              "20.44"
            ]
          },
          "metadata": {},
          "execution_count": 24
        }
      ]
    },
    {
      "cell_type": "code",
      "metadata": {
        "colab": {
          "base_uri": "https://localhost:8080/"
        },
        "id": "16XM1-zDTNzT",
        "outputId": "8783640c-3344-4bf6-d20a-6b22d7392621"
      },
      "source": [
        "srS*read_df['end'][183]"
      ],
      "execution_count": 26,
      "outputs": [
        {
          "output_type": "execute_result",
          "data": {
            "text/plain": [
              "901404.0"
            ]
          },
          "metadata": {},
          "execution_count": 26
        }
      ]
    },
    {
      "cell_type": "code",
      "metadata": {
        "colab": {
          "base_uri": "https://localhost:8080/"
        },
        "id": "pItYTXiATVYH",
        "outputId": "1fbb2e75-cc40-4abc-e8fe-800c52489670"
      },
      "source": [
        "spectrogramS.shape"
      ],
      "execution_count": 27,
      "outputs": [
        {
          "output_type": "execute_result",
          "data": {
            "text/plain": [
              "(1025, 3518)"
            ]
          },
          "metadata": {},
          "execution_count": 27
        }
      ]
    },
    {
      "cell_type": "code",
      "metadata": {
        "colab": {
          "base_uri": "https://localhost:8080/"
        },
        "id": "DyOg08FXTYFI",
        "outputId": "26aab9a2-ccca-4b59-c837-062e61e340b2"
      },
      "source": [
        "3518/20.44"
      ],
      "execution_count": 28,
      "outputs": [
        {
          "output_type": "execute_result",
          "data": {
            "text/plain": [
              "172.11350293542074"
            ]
          },
          "metadata": {},
          "execution_count": 28
        }
      ]
    },
    {
      "cell_type": "code",
      "metadata": {
        "id": "tyM-O_7wTdb5"
      },
      "source": [
        "audioS, srS = librosa.load(\"/content/gdrive/MyDrive/nus-smc-corpus_48/ADIZ/read/09.wav\", sr=None)\n",
        "spectrogramS = librosa.stft(audioS, n_fft=2048, hop_length=256, center=False, win_length=2048)\n",
        "MS = abs(spectrogramS)\n",
        "phaseS = spectrogramS/(MS + 2.2204e-16)"
      ],
      "execution_count": 31,
      "outputs": []
    },
    {
      "cell_type": "code",
      "metadata": {
        "colab": {
          "base_uri": "https://localhost:8080/"
        },
        "id": "LMPsDwOoT0FF",
        "outputId": "7fd85d26-ff39-48db-e8a2-71bc39b5c76a"
      },
      "source": [
        "audioS.shape"
      ],
      "execution_count": 32,
      "outputs": [
        {
          "output_type": "execute_result",
          "data": {
            "text/plain": [
              "(1717086,)"
            ]
          },
          "metadata": {},
          "execution_count": 32
        }
      ]
    },
    {
      "cell_type": "code",
      "metadata": {
        "colab": {
          "base_uri": "https://localhost:8080/",
          "height": 419
        },
        "id": "rqQHqpsMYcWb",
        "outputId": "2e954e5e-9cd4-4d66-bda4-a26e967c170b"
      },
      "source": [
        "read_df"
      ],
      "execution_count": 45,
      "outputs": [
        {
          "output_type": "execute_result",
          "data": {
            "text/html": [
              "<div>\n",
              "<style scoped>\n",
              "    .dataframe tbody tr th:only-of-type {\n",
              "        vertical-align: middle;\n",
              "    }\n",
              "\n",
              "    .dataframe tbody tr th {\n",
              "        vertical-align: top;\n",
              "    }\n",
              "\n",
              "    .dataframe thead th {\n",
              "        text-align: right;\n",
              "    }\n",
              "</style>\n",
              "<table border=\"1\" class=\"dataframe\">\n",
              "  <thead>\n",
              "    <tr style=\"text-align: right;\">\n",
              "      <th></th>\n",
              "      <th>start</th>\n",
              "      <th>end</th>\n",
              "      <th>phoneme</th>\n",
              "    </tr>\n",
              "  </thead>\n",
              "  <tbody>\n",
              "    <tr>\n",
              "      <th>0</th>\n",
              "      <td>0.00</td>\n",
              "      <td>1.05</td>\n",
              "      <td>sil</td>\n",
              "    </tr>\n",
              "    <tr>\n",
              "      <th>1</th>\n",
              "      <td>1.05</td>\n",
              "      <td>1.21</td>\n",
              "      <td>l</td>\n",
              "    </tr>\n",
              "    <tr>\n",
              "      <th>2</th>\n",
              "      <td>1.21</td>\n",
              "      <td>1.32</td>\n",
              "      <td>ah</td>\n",
              "    </tr>\n",
              "    <tr>\n",
              "      <th>3</th>\n",
              "      <td>1.32</td>\n",
              "      <td>1.37</td>\n",
              "      <td>v</td>\n",
              "    </tr>\n",
              "    <tr>\n",
              "      <th>4</th>\n",
              "      <td>1.37</td>\n",
              "      <td>1.39</td>\n",
              "      <td>sil</td>\n",
              "    </tr>\n",
              "    <tr>\n",
              "      <th>...</th>\n",
              "      <td>...</td>\n",
              "      <td>...</td>\n",
              "      <td>...</td>\n",
              "    </tr>\n",
              "    <tr>\n",
              "      <th>412</th>\n",
              "      <td>37.61</td>\n",
              "      <td>37.76</td>\n",
              "      <td>y</td>\n",
              "    </tr>\n",
              "    <tr>\n",
              "      <th>413</th>\n",
              "      <td>37.76</td>\n",
              "      <td>37.80</td>\n",
              "      <td>uw</td>\n",
              "    </tr>\n",
              "    <tr>\n",
              "      <th>414</th>\n",
              "      <td>37.80</td>\n",
              "      <td>37.90</td>\n",
              "      <td>g</td>\n",
              "    </tr>\n",
              "    <tr>\n",
              "      <th>415</th>\n",
              "      <td>37.90</td>\n",
              "      <td>38.17</td>\n",
              "      <td>ow</td>\n",
              "    </tr>\n",
              "    <tr>\n",
              "      <th>416</th>\n",
              "      <td>38.17</td>\n",
              "      <td>38.92</td>\n",
              "      <td>sil</td>\n",
              "    </tr>\n",
              "  </tbody>\n",
              "</table>\n",
              "<p>417 rows × 3 columns</p>\n",
              "</div>"
            ],
            "text/plain": [
              "     start    end phoneme\n",
              "0     0.00   1.05     sil\n",
              "1     1.05   1.21       l\n",
              "2     1.21   1.32      ah\n",
              "3     1.32   1.37       v\n",
              "4     1.37   1.39     sil\n",
              "..     ...    ...     ...\n",
              "412  37.61  37.76       y\n",
              "413  37.76  37.80      uw\n",
              "414  37.80  37.90       g\n",
              "415  37.90  38.17      ow\n",
              "416  38.17  38.92     sil\n",
              "\n",
              "[417 rows x 3 columns]"
            ]
          },
          "metadata": {},
          "execution_count": 45
        }
      ]
    },
    {
      "cell_type": "code",
      "metadata": {
        "colab": {
          "base_uri": "https://localhost:8080/"
        },
        "id": "MhwVDRKQafgJ",
        "outputId": "0c98290e-aba7-44ca-8000-c198d83b04ba"
      },
      "source": [
        "audioS[:10]"
      ],
      "execution_count": 50,
      "outputs": [
        {
          "output_type": "execute_result",
          "data": {
            "text/plain": [
              "array([ 0.0000000e+00, -3.0517578e-05, -1.2207031e-04, -1.2207031e-04,\n",
              "       -1.5258789e-04, -1.8310547e-04, -1.8310547e-04, -2.7465820e-04,\n",
              "       -1.5258789e-04, -1.2207031e-04], dtype=float32)"
            ]
          },
          "metadata": {},
          "execution_count": 50
        }
      ]
    },
    {
      "cell_type": "code",
      "metadata": {
        "colab": {
          "base_uri": "https://localhost:8080/"
        },
        "id": "T1fSVA1kYLCs",
        "outputId": "87441a3b-7bcf-455b-a05e-59d6181ab2fb"
      },
      "source": [
        "audioS[:int(read_df['end'].iloc[-1]*srS)].shape"
      ],
      "execution_count": 52,
      "outputs": [
        {
          "output_type": "execute_result",
          "data": {
            "text/plain": [
              "(1716372,)"
            ]
          },
          "metadata": {},
          "execution_count": 52
        }
      ]
    },
    {
      "cell_type": "code",
      "metadata": {
        "colab": {
          "base_uri": "https://localhost:8080/"
        },
        "id": "jZAWWYy-YOsb",
        "outputId": "dc80968f-139a-4316-faee-82c3a22f8108"
      },
      "source": [
        "read_df['end'].iloc[-1]*srS"
      ],
      "execution_count": 46,
      "outputs": [
        {
          "output_type": "execute_result",
          "data": {
            "text/plain": [
              "1716372.0"
            ]
          },
          "metadata": {},
          "execution_count": 46
        }
      ]
    },
    {
      "cell_type": "code",
      "metadata": {
        "colab": {
          "base_uri": "https://localhost:8080/"
        },
        "id": "xVAMKoFJT1sO",
        "outputId": "83124aba-9d9d-4640-e2bf-0cf4bff29159"
      },
      "source": [
        "1717086/read_df['end'][416]"
      ],
      "execution_count": 33,
      "outputs": [
        {
          "output_type": "execute_result",
          "data": {
            "text/plain": [
              "44118.34532374101"
            ]
          },
          "metadata": {},
          "execution_count": 33
        }
      ]
    },
    {
      "cell_type": "code",
      "metadata": {
        "colab": {
          "base_uri": "https://localhost:8080/"
        },
        "id": "Tjp3coXBT8vv",
        "outputId": "dfb46f8b-674f-4192-f5cf-c09544f2fbc7"
      },
      "source": [
        "spectrogramS.shape"
      ],
      "execution_count": 34,
      "outputs": [
        {
          "output_type": "execute_result",
          "data": {
            "text/plain": [
              "(1025, 6700)"
            ]
          },
          "metadata": {},
          "execution_count": 34
        }
      ]
    },
    {
      "cell_type": "code",
      "metadata": {
        "colab": {
          "base_uri": "https://localhost:8080/"
        },
        "id": "Xz1H2X4xUBBc",
        "outputId": "a650d096-a87a-425a-c32f-43c868a3b262"
      },
      "source": [
        "6700/read_df['end'][416]"
      ],
      "execution_count": 35,
      "outputs": [
        {
          "output_type": "execute_result",
          "data": {
            "text/plain": [
              "172.14799588900308"
            ]
          },
          "metadata": {},
          "execution_count": 35
        }
      ]
    },
    {
      "cell_type": "code",
      "metadata": {
        "colab": {
          "base_uri": "https://localhost:8080/",
          "height": 419
        },
        "id": "v7v4ZBb-gbT_",
        "outputId": "7ed87d99-9219-475c-ab14-e1c4fbd7ab20"
      },
      "source": [
        "read_df"
      ],
      "execution_count": 73,
      "outputs": [
        {
          "output_type": "execute_result",
          "data": {
            "text/html": [
              "<div>\n",
              "<style scoped>\n",
              "    .dataframe tbody tr th:only-of-type {\n",
              "        vertical-align: middle;\n",
              "    }\n",
              "\n",
              "    .dataframe tbody tr th {\n",
              "        vertical-align: top;\n",
              "    }\n",
              "\n",
              "    .dataframe thead th {\n",
              "        text-align: right;\n",
              "    }\n",
              "</style>\n",
              "<table border=\"1\" class=\"dataframe\">\n",
              "  <thead>\n",
              "    <tr style=\"text-align: right;\">\n",
              "      <th></th>\n",
              "      <th>start</th>\n",
              "      <th>end</th>\n",
              "      <th>phoneme</th>\n",
              "    </tr>\n",
              "  </thead>\n",
              "  <tbody>\n",
              "    <tr>\n",
              "      <th>0</th>\n",
              "      <td>0.00</td>\n",
              "      <td>1.05</td>\n",
              "      <td>sil</td>\n",
              "    </tr>\n",
              "    <tr>\n",
              "      <th>1</th>\n",
              "      <td>1.05</td>\n",
              "      <td>1.21</td>\n",
              "      <td>l</td>\n",
              "    </tr>\n",
              "    <tr>\n",
              "      <th>2</th>\n",
              "      <td>1.21</td>\n",
              "      <td>1.32</td>\n",
              "      <td>ah</td>\n",
              "    </tr>\n",
              "    <tr>\n",
              "      <th>3</th>\n",
              "      <td>1.32</td>\n",
              "      <td>1.37</td>\n",
              "      <td>v</td>\n",
              "    </tr>\n",
              "    <tr>\n",
              "      <th>4</th>\n",
              "      <td>1.37</td>\n",
              "      <td>1.39</td>\n",
              "      <td>sil</td>\n",
              "    </tr>\n",
              "    <tr>\n",
              "      <th>...</th>\n",
              "      <td>...</td>\n",
              "      <td>...</td>\n",
              "      <td>...</td>\n",
              "    </tr>\n",
              "    <tr>\n",
              "      <th>412</th>\n",
              "      <td>37.61</td>\n",
              "      <td>37.76</td>\n",
              "      <td>y</td>\n",
              "    </tr>\n",
              "    <tr>\n",
              "      <th>413</th>\n",
              "      <td>37.76</td>\n",
              "      <td>37.80</td>\n",
              "      <td>uw</td>\n",
              "    </tr>\n",
              "    <tr>\n",
              "      <th>414</th>\n",
              "      <td>37.80</td>\n",
              "      <td>37.90</td>\n",
              "      <td>g</td>\n",
              "    </tr>\n",
              "    <tr>\n",
              "      <th>415</th>\n",
              "      <td>37.90</td>\n",
              "      <td>38.17</td>\n",
              "      <td>ow</td>\n",
              "    </tr>\n",
              "    <tr>\n",
              "      <th>416</th>\n",
              "      <td>38.17</td>\n",
              "      <td>38.92</td>\n",
              "      <td>sil</td>\n",
              "    </tr>\n",
              "  </tbody>\n",
              "</table>\n",
              "<p>417 rows × 3 columns</p>\n",
              "</div>"
            ],
            "text/plain": [
              "     start    end phoneme\n",
              "0     0.00   1.05     sil\n",
              "1     1.05   1.21       l\n",
              "2     1.21   1.32      ah\n",
              "3     1.32   1.37       v\n",
              "4     1.37   1.39     sil\n",
              "..     ...    ...     ...\n",
              "412  37.61  37.76       y\n",
              "413  37.76  37.80      uw\n",
              "414  37.80  37.90       g\n",
              "415  37.90  38.17      ow\n",
              "416  38.17  38.92     sil\n",
              "\n",
              "[417 rows x 3 columns]"
            ]
          },
          "metadata": {},
          "execution_count": 73
        }
      ]
    },
    {
      "cell_type": "code",
      "metadata": {
        "colab": {
          "base_uri": "https://localhost:8080/"
        },
        "id": "uE8vpVolghR0",
        "outputId": "c6de6258-c490-485b-88de-3875998d4c96"
      },
      "source": [
        "for i in range(int(read_df['start'].iloc[0]*100), int(read_df['end'].iloc[0]*100)):\n",
        "  print(i/100)"
      ],
      "execution_count": 75,
      "outputs": [
        {
          "output_type": "stream",
          "name": "stdout",
          "text": [
            "0.0\n",
            "0.01\n",
            "0.02\n",
            "0.03\n",
            "0.04\n",
            "0.05\n",
            "0.06\n",
            "0.07\n",
            "0.08\n",
            "0.09\n",
            "0.1\n",
            "0.11\n",
            "0.12\n",
            "0.13\n",
            "0.14\n",
            "0.15\n",
            "0.16\n",
            "0.17\n",
            "0.18\n",
            "0.19\n",
            "0.2\n",
            "0.21\n",
            "0.22\n",
            "0.23\n",
            "0.24\n",
            "0.25\n",
            "0.26\n",
            "0.27\n",
            "0.28\n",
            "0.29\n",
            "0.3\n",
            "0.31\n",
            "0.32\n",
            "0.33\n",
            "0.34\n",
            "0.35\n",
            "0.36\n",
            "0.37\n",
            "0.38\n",
            "0.39\n",
            "0.4\n",
            "0.41\n",
            "0.42\n",
            "0.43\n",
            "0.44\n",
            "0.45\n",
            "0.46\n",
            "0.47\n",
            "0.48\n",
            "0.49\n",
            "0.5\n",
            "0.51\n",
            "0.52\n",
            "0.53\n",
            "0.54\n",
            "0.55\n",
            "0.56\n",
            "0.57\n",
            "0.58\n",
            "0.59\n",
            "0.6\n",
            "0.61\n",
            "0.62\n",
            "0.63\n",
            "0.64\n",
            "0.65\n",
            "0.66\n",
            "0.67\n",
            "0.68\n",
            "0.69\n",
            "0.7\n",
            "0.71\n",
            "0.72\n",
            "0.73\n",
            "0.74\n",
            "0.75\n",
            "0.76\n",
            "0.77\n",
            "0.78\n",
            "0.79\n",
            "0.8\n",
            "0.81\n",
            "0.82\n",
            "0.83\n",
            "0.84\n",
            "0.85\n",
            "0.86\n",
            "0.87\n",
            "0.88\n",
            "0.89\n",
            "0.9\n",
            "0.91\n",
            "0.92\n",
            "0.93\n",
            "0.94\n",
            "0.95\n",
            "0.96\n",
            "0.97\n",
            "0.98\n",
            "0.99\n",
            "1.0\n",
            "1.01\n",
            "1.02\n",
            "1.03\n",
            "1.04\n"
          ]
        }
      ]
    },
    {
      "cell_type": "code",
      "metadata": {
        "id": "sbcYrYmighUK"
      },
      "source": [
        ""
      ],
      "execution_count": null,
      "outputs": []
    },
    {
      "cell_type": "code",
      "metadata": {
        "id": "CQtwe-F2ghXN"
      },
      "source": [
        ""
      ],
      "execution_count": null,
      "outputs": []
    },
    {
      "cell_type": "code",
      "metadata": {
        "colab": {
          "base_uri": "https://localhost:8080/"
        },
        "id": "Ft2Jh5cxWXJV",
        "outputId": "18ee2e5f-1472-4111-b759-f0070dc1b203"
      },
      "source": [
        "os.listdir(\"/content/gdrive/MyDrive/nus-smc-corpus_48/\")"
      ],
      "execution_count": 37,
      "outputs": [
        {
          "output_type": "execute_result",
          "data": {
            "text/plain": [
              "['KENN',\n",
              " 'MCUR',\n",
              " 'JTAN',\n",
              " 'MPOL',\n",
              " 'MPUR',\n",
              " 'ADIZ',\n",
              " 'NJAT',\n",
              " 'PMAR',\n",
              " 'JLEE',\n",
              " 'SAMF',\n",
              " 'ZHIY',\n",
              " 'VKOW',\n",
              " 'README.txt']"
            ]
          },
          "metadata": {},
          "execution_count": 37
        }
      ]
    },
    {
      "cell_type": "code",
      "metadata": {
        "id": "XnCZr76OUQ3f"
      },
      "source": [
        "speaker_list = ['KENN',\n",
        " 'MCUR',\n",
        " 'JTAN',\n",
        " 'MPOL',\n",
        " 'MPUR',\n",
        " 'ADIZ',\n",
        " 'NJAT',\n",
        " 'PMAR',\n",
        " 'JLEE',\n",
        " 'SAMF',\n",
        " 'ZHIY']"
      ],
      "execution_count": 38,
      "outputs": []
    },
    {
      "cell_type": "code",
      "metadata": {
        "id": "PAYeW9O-WaJ3"
      },
      "source": [
        "test_speaker = 'VKOW'"
      ],
      "execution_count": 39,
      "outputs": []
    },
    {
      "cell_type": "code",
      "metadata": {
        "colab": {
          "base_uri": "https://localhost:8080/"
        },
        "id": "eg3TcqgJWtAp",
        "outputId": "81c14798-7dd0-4a83-a96f-b97a0d57ac37"
      },
      "source": [
        "os.listdir(\"/content/gdrive/MyDrive/nus-smc-corpus_48/ADIZ/read/\")"
      ],
      "execution_count": 40,
      "outputs": [
        {
          "output_type": "execute_result",
          "data": {
            "text/plain": [
              "['01.wav',\n",
              " '09.txt',\n",
              " '18.txt',\n",
              " '13.txt',\n",
              " '01.txt',\n",
              " '09.wav',\n",
              " '13.wav',\n",
              " '18.wav']"
            ]
          },
          "metadata": {},
          "execution_count": 40
        }
      ]
    },
    {
      "cell_type": "code",
      "metadata": {
        "id": "pu5lAtpgXJU8"
      },
      "source": [
        "audio_array = []\n",
        "phoneme_array = []"
      ],
      "execution_count": 93,
      "outputs": []
    },
    {
      "cell_type": "code",
      "metadata": {
        "id": "0Pq1J8qPWcZd"
      },
      "source": [
        "for sp in speaker_list:\n",
        "  for sig in os.listdir(\"/content/gdrive/MyDrive/nus-smc-corpus_48/\"+str(sp)+\"/read/\"):\n",
        "    if '.wav' in sig:\n",
        "      song = sig.replace('.wav','')\n",
        "      df = pd.read_csv(\"/content/gdrive/MyDrive/nus-smc-corpus_48/\"+str(sp)+\"/read/\"+str(song)+\".txt\", delimiter=\" \", header=None, names=['start', 'end', 'phoneme'])\n",
        "      audio, sr = librosa.load(\"/content/gdrive/MyDrive/nus-smc-corpus_48/\"+str(sp)+\"/read/\"+str(sig), sr=None)\n",
        "      audio = audio[:int(df['end'].iloc[-1]*sr)]\n",
        "\n",
        "      for idx, row in df.iterrows():\n",
        "        for i in range(int(row['start']*100),int(row['end']*100)):\n",
        "          reqd_audio = audio[int(i/100*sr):int((i+1)/100*sr)]\n",
        "          spectrogram = librosa.stft(reqd_audio, n_fft=256, hop_length=256, center=False, win_length=256)\n",
        "          M = abs(spectrogram)\n",
        "          audio_array.append(M)\n",
        "          phoneme_array.append(one_hot_dict[row['phoneme']])"
      ],
      "execution_count": 94,
      "outputs": []
    },
    {
      "cell_type": "code",
      "metadata": {
        "colab": {
          "base_uri": "https://localhost:8080/"
        },
        "id": "xcMRM47IbdCn",
        "outputId": "d3475fae-736a-4e17-aca9-04f02ee44a5d"
      },
      "source": [
        "np.array(audio_array)"
      ],
      "execution_count": 88,
      "outputs": [
        {
          "output_type": "stream",
          "name": "stderr",
          "text": [
            "/usr/local/lib/python3.7/dist-packages/ipykernel_launcher.py:1: VisibleDeprecationWarning: Creating an ndarray from ragged nested sequences (which is a list-or-tuple of lists-or-tuples-or ndarrays with different lengths or shapes) is deprecated. If you meant to do this, you must specify 'dtype=object' when creating the ndarray\n",
            "  \"\"\"Entry point for launching an IPython kernel.\n"
          ]
        },
        {
          "output_type": "execute_result",
          "data": {
            "text/plain": [
              "array([array([[4.37818989e-02, 2.27263779e-03, 6.79824650e-02, ...,\n",
              "        1.31672069e-01, 8.69553164e-03, 1.34576499e-01],\n",
              "       [4.56237309e-02, 2.99167782e-02, 4.00063768e-02, ...,\n",
              "        6.41017258e-02, 3.29150818e-02, 8.72185230e-02],\n",
              "       [6.19328246e-02, 4.12415601e-02, 1.51375495e-02, ...,\n",
              "        3.25954147e-02, 5.17521128e-02, 4.31988910e-02],\n",
              "       ...,\n",
              "       [1.07144192e-03, 1.54478115e-03, 1.14233489e-03, ...,\n",
              "        5.35920379e-04, 8.77336541e-04, 5.94387762e-04],\n",
              "       [2.79499247e-04, 9.53289273e-04, 8.83245375e-04, ...,\n",
              "        5.59472130e-04, 3.09915253e-04, 2.00566341e-04],\n",
              "       [5.45251765e-04, 9.01728854e-05, 8.04201991e-04, ...,\n",
              "        8.31322395e-04, 4.30581684e-04, 4.59553266e-04]], dtype=float32),\n",
              "       array([[2.5039107e-02, 2.5378691e-02, 1.4193659e-02, ..., 6.9688283e-02,\n",
              "        1.4669709e-02, 1.3805054e-01],\n",
              "       [7.6325893e-02, 8.6030811e-02, 8.3960712e-02, ..., 2.8557595e-02,\n",
              "        9.4662800e-02, 1.9121478e-01],\n",
              "       [1.7654189e-01, 2.3093660e-01, 3.1275004e-01, ..., 4.0437248e-02,\n",
              "        1.0182242e-01, 2.4528922e-01],\n",
              "       ...,\n",
              "       [1.1219173e-03, 1.2197646e-03, 1.6414433e-03, ..., 2.1637657e-03,\n",
              "        1.5710623e-03, 1.3464178e-03],\n",
              "       [4.9031212e-04, 1.3834964e-03, 9.3444373e-04, ..., 1.5230118e-03,\n",
              "        3.1459779e-03, 1.0492066e-03],\n",
              "       [2.0490929e-04, 5.4072664e-04, 9.9734054e-04, ..., 2.4469327e-05,\n",
              "        2.6739892e-03, 2.2033514e-03]], dtype=float32),\n",
              "       array([[7.3253936e-01, 8.4369034e-01, 5.7626748e-01, ..., 6.7940038e-01,\n",
              "        1.3324343e+00, 1.7476735e+00],\n",
              "       [1.2888584e+00, 3.4065835e+00, 3.5708592e+00, ..., 3.5740116e+00,\n",
              "        3.6748297e+00, 3.9838552e+00],\n",
              "       [1.1964272e+00, 4.6529012e+00, 3.0650282e+00, ..., 2.7282517e+00,\n",
              "        3.1248455e+00, 6.0438428e+00],\n",
              "       ...,\n",
              "       [3.2630793e-04, 2.3573353e-04, 8.6985267e-04, ..., 9.5051801e-04,\n",
              "        1.5153225e-03, 1.6355893e-03],\n",
              "       [7.4208318e-04, 4.3399478e-04, 3.4304298e-04, ..., 5.5629172e-04,\n",
              "        3.9957798e-04, 3.2394330e-04],\n",
              "       [9.4902673e-04, 4.8822991e-04, 7.4759201e-04, ..., 8.9602201e-04,\n",
              "        9.1406167e-04, 4.8505439e-04]], dtype=float32),\n",
              "       ...,\n",
              "       array([[1.0225553e-02],\n",
              "       [5.6166179e-03],\n",
              "       [1.8691112e-03],\n",
              "       [6.8464020e-04],\n",
              "       [8.7455707e-04],\n",
              "       [7.0949807e-04],\n",
              "       [3.0614925e-04],\n",
              "       [5.2059896e-04],\n",
              "       [9.2256902e-04],\n",
              "       [7.1936217e-04],\n",
              "       [6.0258171e-04],\n",
              "       [4.5217542e-04],\n",
              "       [8.9207652e-04],\n",
              "       [9.8360679e-04],\n",
              "       [5.1314861e-04],\n",
              "       [7.1947213e-04],\n",
              "       [7.9880352e-04],\n",
              "       [6.2419922e-04],\n",
              "       [6.0043146e-04],\n",
              "       [9.9637790e-04],\n",
              "       [1.4277203e-03],\n",
              "       [1.5096309e-03],\n",
              "       [1.4720988e-03],\n",
              "       [7.6051906e-04],\n",
              "       [2.0909378e-04],\n",
              "       [3.6011828e-04],\n",
              "       [1.4912768e-04],\n",
              "       [1.0892619e-04],\n",
              "       [3.2837479e-04],\n",
              "       [3.2343634e-04],\n",
              "       [5.4374035e-04],\n",
              "       [3.2035896e-04],\n",
              "       [2.5628964e-04],\n",
              "       [3.5845404e-04],\n",
              "       [2.6416618e-04],\n",
              "       [3.4582193e-04],\n",
              "       [4.7060163e-04],\n",
              "       [3.5405686e-04],\n",
              "       [4.6944848e-04],\n",
              "       [7.1343849e-04],\n",
              "       [8.0279226e-04],\n",
              "       [5.9293502e-04],\n",
              "       [4.8739661e-04],\n",
              "       [1.4120001e-04],\n",
              "       [2.3674863e-04],\n",
              "       [3.1806505e-04],\n",
              "       [4.3427115e-04],\n",
              "       [1.5187122e-04],\n",
              "       [7.1928080e-04],\n",
              "       [1.0042922e-03],\n",
              "       [6.1231689e-04],\n",
              "       [3.4581387e-04],\n",
              "       [4.1809987e-04],\n",
              "       [4.8744434e-04],\n",
              "       [4.3007219e-04],\n",
              "       [3.7846781e-04],\n",
              "       [4.8232419e-04],\n",
              "       [5.0250802e-04],\n",
              "       [1.5811574e-04],\n",
              "       [3.3288650e-04],\n",
              "       [3.7378521e-04],\n",
              "       [2.5609919e-04],\n",
              "       [3.4083033e-04],\n",
              "       [1.5706515e-05],\n",
              "       [1.1787739e-04],\n",
              "       [2.6532798e-04],\n",
              "       [2.1584256e-04],\n",
              "       [2.4393201e-04],\n",
              "       [2.4616491e-04],\n",
              "       [5.1512255e-04],\n",
              "       [4.5320275e-04],\n",
              "       [1.4838715e-04],\n",
              "       [2.5632509e-04],\n",
              "       [1.6185208e-04],\n",
              "       [2.7416018e-04],\n",
              "       [1.8055535e-04],\n",
              "       [3.4445940e-04],\n",
              "       [6.0443580e-04],\n",
              "       [5.0761510e-04],\n",
              "       [1.9164456e-04],\n",
              "       [1.0898478e-04],\n",
              "       [3.1184347e-04],\n",
              "       [6.8071036e-04],\n",
              "       [4.8687615e-04],\n",
              "       [5.2473129e-04],\n",
              "       [4.0195716e-04],\n",
              "       [7.6054741e-05],\n",
              "       [1.5526950e-04],\n",
              "       [2.5754163e-04],\n",
              "       [2.4348919e-04],\n",
              "       [1.3914019e-04],\n",
              "       [1.8988237e-04],\n",
              "       [1.5687830e-04],\n",
              "       [2.2670721e-04],\n",
              "       [2.1310271e-04],\n",
              "       [4.4494728e-04],\n",
              "       [2.1520330e-04],\n",
              "       [5.6110664e-05],\n",
              "       [2.1762126e-04],\n",
              "       [5.7688315e-04],\n",
              "       [6.3322159e-04],\n",
              "       [6.1058119e-04],\n",
              "       [1.9021341e-04],\n",
              "       [5.4761535e-04],\n",
              "       [8.6389383e-04],\n",
              "       [8.9827820e-04],\n",
              "       [1.1270940e-03],\n",
              "       [7.5708155e-04],\n",
              "       [1.7621690e-04],\n",
              "       [5.3629128e-04],\n",
              "       [3.3390452e-04],\n",
              "       [6.5096538e-04],\n",
              "       [6.6943798e-04],\n",
              "       [1.6414965e-04],\n",
              "       [4.0054583e-05],\n",
              "       [2.6540415e-04],\n",
              "       [4.4061258e-04],\n",
              "       [2.8355495e-04],\n",
              "       [3.2535559e-04],\n",
              "       [2.7558208e-04],\n",
              "       [4.5727839e-04],\n",
              "       [3.4812372e-04],\n",
              "       [4.6873957e-04],\n",
              "       [2.4026082e-04],\n",
              "       [3.6172281e-04],\n",
              "       [4.9186865e-04],\n",
              "       [5.3151208e-04],\n",
              "       [4.2410757e-04],\n",
              "       [3.1225840e-04]], dtype=float32),\n",
              "       array([[1.19864689e-02],\n",
              "       [1.07428879e-02],\n",
              "       [3.49005382e-03],\n",
              "       [1.14673795e-03],\n",
              "       [6.58685283e-04],\n",
              "       [8.51129182e-04],\n",
              "       [5.40237641e-04],\n",
              "       [1.41641789e-03],\n",
              "       [4.45126760e-04],\n",
              "       [6.97947980e-04],\n",
              "       [4.64995188e-04],\n",
              "       [6.97035866e-04],\n",
              "       [1.00383197e-03],\n",
              "       [5.58669562e-04],\n",
              "       [1.71754931e-04],\n",
              "       [2.85944523e-04],\n",
              "       [3.16964608e-04],\n",
              "       [9.89963592e-05],\n",
              "       [3.40521132e-04],\n",
              "       [3.96432035e-04],\n",
              "       [1.93084867e-04],\n",
              "       [2.17075649e-04],\n",
              "       [3.15075333e-04],\n",
              "       [6.57873461e-05],\n",
              "       [3.09127121e-04],\n",
              "       [3.45932785e-04],\n",
              "       [2.55979190e-04],\n",
              "       [1.68365441e-04],\n",
              "       [5.13317122e-04],\n",
              "       [5.73925616e-04],\n",
              "       [1.07177533e-04],\n",
              "       [2.38236025e-04],\n",
              "       [3.92251037e-04],\n",
              "       [5.50612283e-04],\n",
              "       [6.92093221e-04],\n",
              "       [6.04661182e-04],\n",
              "       [1.77730006e-04],\n",
              "       [3.17373895e-04],\n",
              "       [1.55614034e-04],\n",
              "       [5.40757144e-04],\n",
              "       [4.40465257e-04],\n",
              "       [1.88209015e-04],\n",
              "       [1.77431517e-04],\n",
              "       [2.42889248e-04],\n",
              "       [2.16247165e-04],\n",
              "       [2.32548351e-04],\n",
              "       [2.34671737e-04],\n",
              "       [5.51294594e-04],\n",
              "       [2.39463901e-04],\n",
              "       [2.07854988e-04],\n",
              "       [1.13501155e-04],\n",
              "       [5.31829312e-04],\n",
              "       [6.61904691e-04],\n",
              "       [1.93345360e-04],\n",
              "       [1.55263129e-04],\n",
              "       [1.19999175e-04],\n",
              "       [2.75303726e-04],\n",
              "       [2.26249991e-04],\n",
              "       [2.20544782e-04],\n",
              "       [3.81231221e-04],\n",
              "       [2.28239602e-04],\n",
              "       [2.47571559e-04],\n",
              "       [2.69646902e-04],\n",
              "       [4.29696840e-04],\n",
              "       [2.77038052e-04],\n",
              "       [4.48467908e-04],\n",
              "       [5.26550808e-04],\n",
              "       [1.28583997e-04],\n",
              "       [2.69678130e-04],\n",
              "       [1.25140330e-04],\n",
              "       [1.62233904e-04],\n",
              "       [5.45781979e-04],\n",
              "       [9.33694595e-04],\n",
              "       [8.77025595e-04],\n",
              "       [2.24898205e-04],\n",
              "       [4.79581300e-04],\n",
              "       [2.50956451e-04],\n",
              "       [2.43329545e-04],\n",
              "       [2.85480637e-04],\n",
              "       [5.08708297e-04],\n",
              "       [6.20597799e-04],\n",
              "       [2.16566885e-04],\n",
              "       [4.76042711e-04],\n",
              "       [4.88493708e-04],\n",
              "       [6.32913871e-05],\n",
              "       [4.98841808e-04],\n",
              "       [7.84850214e-04],\n",
              "       [8.81870510e-04],\n",
              "       [6.35762291e-04],\n",
              "       [4.58595343e-04],\n",
              "       [4.30121552e-04],\n",
              "       [2.25966927e-04],\n",
              "       [1.84479810e-04],\n",
              "       [1.63804536e-04],\n",
              "       [2.29989178e-04],\n",
              "       [7.64309225e-05],\n",
              "       [4.72722837e-04],\n",
              "       [3.32885218e-04],\n",
              "       [3.61897692e-04],\n",
              "       [4.10356384e-04],\n",
              "       [2.37303029e-04],\n",
              "       [1.81416006e-04],\n",
              "       [2.74936901e-04],\n",
              "       [2.37391141e-04],\n",
              "       [2.99591979e-04],\n",
              "       [3.17084894e-04],\n",
              "       [2.41330941e-04],\n",
              "       [3.97645868e-04],\n",
              "       [2.55549559e-04],\n",
              "       [4.11922258e-04],\n",
              "       [6.46932167e-04],\n",
              "       [3.51266412e-04],\n",
              "       [3.88480985e-04],\n",
              "       [1.91122919e-04],\n",
              "       [2.15653228e-04],\n",
              "       [1.77211768e-04],\n",
              "       [3.08672956e-04],\n",
              "       [5.54822735e-04],\n",
              "       [4.55461734e-04],\n",
              "       [1.92706575e-04],\n",
              "       [2.21988652e-04],\n",
              "       [1.84775461e-04],\n",
              "       [6.24324195e-04],\n",
              "       [8.04813462e-04],\n",
              "       [9.93267400e-04],\n",
              "       [8.73227138e-04],\n",
              "       [5.89445990e-04],\n",
              "       [3.59373982e-04],\n",
              "       [8.60112603e-04]], dtype=float32),\n",
              "       array([[2.76730042e-02],\n",
              "       [1.50113078e-02],\n",
              "       [2.50460813e-03],\n",
              "       [1.11210020e-03],\n",
              "       [1.13153819e-03],\n",
              "       [1.07094005e-03],\n",
              "       [7.59106188e-04],\n",
              "       [4.26125509e-04],\n",
              "       [4.31002845e-04],\n",
              "       [2.91700475e-04],\n",
              "       [6.84596249e-04],\n",
              "       [1.33966649e-04],\n",
              "       [2.80391512e-04],\n",
              "       [7.93661820e-05],\n",
              "       [2.08801663e-04],\n",
              "       [2.48731812e-04],\n",
              "       [5.35886560e-04],\n",
              "       [7.02423742e-04],\n",
              "       [6.78158831e-04],\n",
              "       [2.48066615e-04],\n",
              "       [3.56540171e-04],\n",
              "       [2.99312989e-04],\n",
              "       [5.78851439e-04],\n",
              "       [8.10013444e-04],\n",
              "       [4.40951175e-04],\n",
              "       [4.26230399e-04],\n",
              "       [5.84991300e-04],\n",
              "       [2.75879866e-04],\n",
              "       [1.42463585e-04],\n",
              "       [3.58879130e-04],\n",
              "       [4.50324093e-04],\n",
              "       [3.82604310e-04],\n",
              "       [2.26357792e-04],\n",
              "       [1.89080165e-04],\n",
              "       [1.27099745e-04],\n",
              "       [9.22132749e-05],\n",
              "       [2.80945707e-04],\n",
              "       [4.99463582e-04],\n",
              "       [8.34595878e-04],\n",
              "       [7.04024453e-04],\n",
              "       [2.17476219e-04],\n",
              "       [1.81712690e-04],\n",
              "       [1.36358663e-04],\n",
              "       [8.83907924e-05],\n",
              "       [2.13161766e-04],\n",
              "       [2.69021053e-04],\n",
              "       [3.99360113e-04],\n",
              "       [3.51632450e-04],\n",
              "       [2.60663655e-04],\n",
              "       [3.01378954e-04],\n",
              "       [1.61083037e-04],\n",
              "       [3.17545957e-04],\n",
              "       [5.00244205e-04],\n",
              "       [1.04758510e-04],\n",
              "       [1.31059438e-04],\n",
              "       [9.17280631e-05],\n",
              "       [3.36171390e-04],\n",
              "       [5.65087015e-04],\n",
              "       [3.14578530e-04],\n",
              "       [3.13820317e-04],\n",
              "       [3.51757597e-04],\n",
              "       [2.38858032e-04],\n",
              "       [1.77085953e-04],\n",
              "       [2.26995980e-04],\n",
              "       [2.06627737e-04],\n",
              "       [5.59100954e-05],\n",
              "       [1.94443594e-04],\n",
              "       [4.18530864e-04],\n",
              "       [4.65910212e-04],\n",
              "       [1.16102994e-04],\n",
              "       [3.45334229e-05],\n",
              "       [1.38252173e-04],\n",
              "       [2.43552044e-04],\n",
              "       [3.62141058e-04],\n",
              "       [3.22855776e-04],\n",
              "       [2.30553022e-04],\n",
              "       [2.46840704e-04],\n",
              "       [1.84583740e-04],\n",
              "       [5.16186010e-05],\n",
              "       [4.26730039e-05],\n",
              "       [3.24568857e-04],\n",
              "       [4.70709347e-04],\n",
              "       [3.91601672e-04],\n",
              "       [4.85079945e-04],\n",
              "       [3.55918339e-04],\n",
              "       [7.46974780e-04],\n",
              "       [3.48860049e-04],\n",
              "       [4.06513194e-04],\n",
              "       [3.77433869e-04],\n",
              "       [1.26785148e-04],\n",
              "       [1.81743409e-04],\n",
              "       [3.50034534e-04],\n",
              "       [5.94298879e-04],\n",
              "       [5.71021694e-04],\n",
              "       [2.98698258e-04],\n",
              "       [1.99739850e-04],\n",
              "       [2.11221719e-04],\n",
              "       [2.01407616e-04],\n",
              "       [5.47252246e-04],\n",
              "       [3.83622217e-04],\n",
              "       [3.58386606e-05],\n",
              "       [4.37678507e-04],\n",
              "       [8.40364140e-04],\n",
              "       [5.28711767e-04],\n",
              "       [3.29849718e-04],\n",
              "       [3.63020110e-04],\n",
              "       [3.93558992e-04],\n",
              "       [3.16500256e-04],\n",
              "       [4.90347331e-04],\n",
              "       [2.90827273e-04],\n",
              "       [2.61869514e-04],\n",
              "       [2.15594948e-04],\n",
              "       [5.78881125e-04],\n",
              "       [5.20810892e-04],\n",
              "       [2.54403159e-04],\n",
              "       [4.71946929e-04],\n",
              "       [5.70807722e-04],\n",
              "       [6.35908509e-04],\n",
              "       [4.61569463e-04],\n",
              "       [2.89205549e-04],\n",
              "       [3.44625587e-04],\n",
              "       [3.89705150e-04],\n",
              "       [1.25953375e-04],\n",
              "       [1.74963017e-04],\n",
              "       [2.56472442e-04],\n",
              "       [3.45372711e-04],\n",
              "       [3.23491986e-04],\n",
              "       [3.70381458e-04],\n",
              "       [7.06793740e-04]], dtype=float32)], dtype=object)"
            ]
          },
          "metadata": {},
          "execution_count": 88
        }
      ]
    },
    {
      "cell_type": "code",
      "metadata": {
        "colab": {
          "base_uri": "https://localhost:8080/"
        },
        "id": "HNc27YvEbzmG",
        "outputId": "b372e5a9-d991-4dbb-c6fd-934b7b2358eb"
      },
      "source": [
        "audio_array[6].shape"
      ],
      "execution_count": 87,
      "outputs": [
        {
          "output_type": "execute_result",
          "data": {
            "text/plain": [
              "(257, 15)"
            ]
          },
          "metadata": {},
          "execution_count": 87
        }
      ]
    },
    {
      "cell_type": "code",
      "metadata": {
        "colab": {
          "base_uri": "https://localhost:8080/"
        },
        "id": "vNHSZBQkcK6c",
        "outputId": "01bff99b-d9b4-47cc-802c-7b5f15330665"
      },
      "source": [
        "len(audio_array)"
      ],
      "execution_count": 61,
      "outputs": [
        {
          "output_type": "execute_result",
          "data": {
            "text/plain": [
              "31380"
            ]
          },
          "metadata": {},
          "execution_count": 61
        }
      ]
    },
    {
      "cell_type": "code",
      "metadata": {
        "colab": {
          "base_uri": "https://localhost:8080/"
        },
        "id": "68W_xAlqcP9c",
        "outputId": "6e5dfea0-f7d7-487c-d021-bc3cd8521639"
      },
      "source": [
        "set(phoneme_array)"
      ],
      "execution_count": 68,
      "outputs": [
        {
          "output_type": "execute_result",
          "data": {
            "text/plain": [
              "{'aa',\n",
              " 'ae',\n",
              " 'ah',\n",
              " 'ao',\n",
              " 'aw',\n",
              " 'ay',\n",
              " 'b',\n",
              " 'ch',\n",
              " 'd',\n",
              " 'dh',\n",
              " 'eh',\n",
              " 'er',\n",
              " 'ey',\n",
              " 'f',\n",
              " 'g',\n",
              " 'hh',\n",
              " 'ih',\n",
              " 'iy',\n",
              " 'jh',\n",
              " 'k',\n",
              " 'l',\n",
              " 'm',\n",
              " 'n',\n",
              " 'ng',\n",
              " 'ow',\n",
              " 'oy',\n",
              " 'p',\n",
              " 'r',\n",
              " 's',\n",
              " 'sh',\n",
              " 'sil',\n",
              " 't',\n",
              " 'th',\n",
              " 'uh',\n",
              " 'uw',\n",
              " 'v',\n",
              " 'w',\n",
              " 'y',\n",
              " 'z',\n",
              " 'zh'}"
            ]
          },
          "metadata": {},
          "execution_count": 68
        }
      ]
    },
    {
      "cell_type": "code",
      "metadata": {
        "id": "xoK_YRZKewOi"
      },
      "source": [
        "one_hot = np.eye(40)"
      ],
      "execution_count": 66,
      "outputs": []
    },
    {
      "cell_type": "code",
      "metadata": {
        "colab": {
          "base_uri": "https://localhost:8080/"
        },
        "id": "Pn5yD6lhfQp9",
        "outputId": "324fc318-5d84-4c19-aea8-cb05eabe7c51"
      },
      "source": [
        "for ph in enumerate(set(phoneme_array)):\n",
        "  print(ph)"
      ],
      "execution_count": 70,
      "outputs": [
        {
          "output_type": "stream",
          "name": "stdout",
          "text": [
            "(0, 'iy')\n",
            "(1, 'r')\n",
            "(2, 'ih')\n",
            "(3, 'd')\n",
            "(4, 'v')\n",
            "(5, 't')\n",
            "(6, 'g')\n",
            "(7, 'l')\n",
            "(8, 'ah')\n",
            "(9, 'hh')\n",
            "(10, 's')\n",
            "(11, 'z')\n",
            "(12, 'n')\n",
            "(13, 'w')\n",
            "(14, 'ay')\n",
            "(15, 'f')\n",
            "(16, 'ey')\n",
            "(17, 'm')\n",
            "(18, 'y')\n",
            "(19, 'ae')\n",
            "(20, 'k')\n",
            "(21, 'dh')\n",
            "(22, 'ch')\n",
            "(23, 'aa')\n",
            "(24, 'b')\n",
            "(25, 'ow')\n",
            "(26, 'uw')\n",
            "(27, 'aw')\n",
            "(28, 'jh')\n",
            "(29, 'oy')\n",
            "(30, 'sil')\n",
            "(31, 'er')\n",
            "(32, 'zh')\n",
            "(33, 'eh')\n",
            "(34, 'p')\n",
            "(35, 'uh')\n",
            "(36, 'ng')\n",
            "(37, 'th')\n",
            "(38, 'ao')\n",
            "(39, 'sh')\n"
          ]
        }
      ]
    },
    {
      "cell_type": "code",
      "metadata": {
        "id": "WM6eNxb6e7lS"
      },
      "source": [
        "one_hot_dict = {}\n",
        "for idx, ph in enumerate(set(phoneme_array)):\n",
        "  one_hot_dict[ph] = one_hot[idx,:]"
      ],
      "execution_count": 71,
      "outputs": []
    },
    {
      "cell_type": "code",
      "metadata": {
        "colab": {
          "base_uri": "https://localhost:8080/"
        },
        "id": "5Oq8tvcDfoXw",
        "outputId": "3e54554d-3a39-4c4a-b3f0-8338d26e5bbd"
      },
      "source": [
        "one_hot_dict"
      ],
      "execution_count": 72,
      "outputs": [
        {
          "output_type": "execute_result",
          "data": {
            "text/plain": [
              "{'aa': array([0., 0., 0., 0., 0., 0., 0., 0., 0., 0., 0., 0., 0., 0., 0., 0., 0.,\n",
              "        0., 0., 0., 0., 0., 0., 1., 0., 0., 0., 0., 0., 0., 0., 0., 0., 0.,\n",
              "        0., 0., 0., 0., 0., 0.]),\n",
              " 'ae': array([0., 0., 0., 0., 0., 0., 0., 0., 0., 0., 0., 0., 0., 0., 0., 0., 0.,\n",
              "        0., 0., 1., 0., 0., 0., 0., 0., 0., 0., 0., 0., 0., 0., 0., 0., 0.,\n",
              "        0., 0., 0., 0., 0., 0.]),\n",
              " 'ah': array([0., 0., 0., 0., 0., 0., 0., 0., 1., 0., 0., 0., 0., 0., 0., 0., 0.,\n",
              "        0., 0., 0., 0., 0., 0., 0., 0., 0., 0., 0., 0., 0., 0., 0., 0., 0.,\n",
              "        0., 0., 0., 0., 0., 0.]),\n",
              " 'ao': array([0., 0., 0., 0., 0., 0., 0., 0., 0., 0., 0., 0., 0., 0., 0., 0., 0.,\n",
              "        0., 0., 0., 0., 0., 0., 0., 0., 0., 0., 0., 0., 0., 0., 0., 0., 0.,\n",
              "        0., 0., 0., 0., 1., 0.]),\n",
              " 'aw': array([0., 0., 0., 0., 0., 0., 0., 0., 0., 0., 0., 0., 0., 0., 0., 0., 0.,\n",
              "        0., 0., 0., 0., 0., 0., 0., 0., 0., 0., 1., 0., 0., 0., 0., 0., 0.,\n",
              "        0., 0., 0., 0., 0., 0.]),\n",
              " 'ay': array([0., 0., 0., 0., 0., 0., 0., 0., 0., 0., 0., 0., 0., 0., 1., 0., 0.,\n",
              "        0., 0., 0., 0., 0., 0., 0., 0., 0., 0., 0., 0., 0., 0., 0., 0., 0.,\n",
              "        0., 0., 0., 0., 0., 0.]),\n",
              " 'b': array([0., 0., 0., 0., 0., 0., 0., 0., 0., 0., 0., 0., 0., 0., 0., 0., 0.,\n",
              "        0., 0., 0., 0., 0., 0., 0., 1., 0., 0., 0., 0., 0., 0., 0., 0., 0.,\n",
              "        0., 0., 0., 0., 0., 0.]),\n",
              " 'ch': array([0., 0., 0., 0., 0., 0., 0., 0., 0., 0., 0., 0., 0., 0., 0., 0., 0.,\n",
              "        0., 0., 0., 0., 0., 1., 0., 0., 0., 0., 0., 0., 0., 0., 0., 0., 0.,\n",
              "        0., 0., 0., 0., 0., 0.]),\n",
              " 'd': array([0., 0., 0., 1., 0., 0., 0., 0., 0., 0., 0., 0., 0., 0., 0., 0., 0.,\n",
              "        0., 0., 0., 0., 0., 0., 0., 0., 0., 0., 0., 0., 0., 0., 0., 0., 0.,\n",
              "        0., 0., 0., 0., 0., 0.]),\n",
              " 'dh': array([0., 0., 0., 0., 0., 0., 0., 0., 0., 0., 0., 0., 0., 0., 0., 0., 0.,\n",
              "        0., 0., 0., 0., 1., 0., 0., 0., 0., 0., 0., 0., 0., 0., 0., 0., 0.,\n",
              "        0., 0., 0., 0., 0., 0.]),\n",
              " 'eh': array([0., 0., 0., 0., 0., 0., 0., 0., 0., 0., 0., 0., 0., 0., 0., 0., 0.,\n",
              "        0., 0., 0., 0., 0., 0., 0., 0., 0., 0., 0., 0., 0., 0., 0., 0., 1.,\n",
              "        0., 0., 0., 0., 0., 0.]),\n",
              " 'er': array([0., 0., 0., 0., 0., 0., 0., 0., 0., 0., 0., 0., 0., 0., 0., 0., 0.,\n",
              "        0., 0., 0., 0., 0., 0., 0., 0., 0., 0., 0., 0., 0., 0., 1., 0., 0.,\n",
              "        0., 0., 0., 0., 0., 0.]),\n",
              " 'ey': array([0., 0., 0., 0., 0., 0., 0., 0., 0., 0., 0., 0., 0., 0., 0., 0., 1.,\n",
              "        0., 0., 0., 0., 0., 0., 0., 0., 0., 0., 0., 0., 0., 0., 0., 0., 0.,\n",
              "        0., 0., 0., 0., 0., 0.]),\n",
              " 'f': array([0., 0., 0., 0., 0., 0., 0., 0., 0., 0., 0., 0., 0., 0., 0., 1., 0.,\n",
              "        0., 0., 0., 0., 0., 0., 0., 0., 0., 0., 0., 0., 0., 0., 0., 0., 0.,\n",
              "        0., 0., 0., 0., 0., 0.]),\n",
              " 'g': array([0., 0., 0., 0., 0., 0., 1., 0., 0., 0., 0., 0., 0., 0., 0., 0., 0.,\n",
              "        0., 0., 0., 0., 0., 0., 0., 0., 0., 0., 0., 0., 0., 0., 0., 0., 0.,\n",
              "        0., 0., 0., 0., 0., 0.]),\n",
              " 'hh': array([0., 0., 0., 0., 0., 0., 0., 0., 0., 1., 0., 0., 0., 0., 0., 0., 0.,\n",
              "        0., 0., 0., 0., 0., 0., 0., 0., 0., 0., 0., 0., 0., 0., 0., 0., 0.,\n",
              "        0., 0., 0., 0., 0., 0.]),\n",
              " 'ih': array([0., 0., 1., 0., 0., 0., 0., 0., 0., 0., 0., 0., 0., 0., 0., 0., 0.,\n",
              "        0., 0., 0., 0., 0., 0., 0., 0., 0., 0., 0., 0., 0., 0., 0., 0., 0.,\n",
              "        0., 0., 0., 0., 0., 0.]),\n",
              " 'iy': array([1., 0., 0., 0., 0., 0., 0., 0., 0., 0., 0., 0., 0., 0., 0., 0., 0.,\n",
              "        0., 0., 0., 0., 0., 0., 0., 0., 0., 0., 0., 0., 0., 0., 0., 0., 0.,\n",
              "        0., 0., 0., 0., 0., 0.]),\n",
              " 'jh': array([0., 0., 0., 0., 0., 0., 0., 0., 0., 0., 0., 0., 0., 0., 0., 0., 0.,\n",
              "        0., 0., 0., 0., 0., 0., 0., 0., 0., 0., 0., 1., 0., 0., 0., 0., 0.,\n",
              "        0., 0., 0., 0., 0., 0.]),\n",
              " 'k': array([0., 0., 0., 0., 0., 0., 0., 0., 0., 0., 0., 0., 0., 0., 0., 0., 0.,\n",
              "        0., 0., 0., 1., 0., 0., 0., 0., 0., 0., 0., 0., 0., 0., 0., 0., 0.,\n",
              "        0., 0., 0., 0., 0., 0.]),\n",
              " 'l': array([0., 0., 0., 0., 0., 0., 0., 1., 0., 0., 0., 0., 0., 0., 0., 0., 0.,\n",
              "        0., 0., 0., 0., 0., 0., 0., 0., 0., 0., 0., 0., 0., 0., 0., 0., 0.,\n",
              "        0., 0., 0., 0., 0., 0.]),\n",
              " 'm': array([0., 0., 0., 0., 0., 0., 0., 0., 0., 0., 0., 0., 0., 0., 0., 0., 0.,\n",
              "        1., 0., 0., 0., 0., 0., 0., 0., 0., 0., 0., 0., 0., 0., 0., 0., 0.,\n",
              "        0., 0., 0., 0., 0., 0.]),\n",
              " 'n': array([0., 0., 0., 0., 0., 0., 0., 0., 0., 0., 0., 0., 1., 0., 0., 0., 0.,\n",
              "        0., 0., 0., 0., 0., 0., 0., 0., 0., 0., 0., 0., 0., 0., 0., 0., 0.,\n",
              "        0., 0., 0., 0., 0., 0.]),\n",
              " 'ng': array([0., 0., 0., 0., 0., 0., 0., 0., 0., 0., 0., 0., 0., 0., 0., 0., 0.,\n",
              "        0., 0., 0., 0., 0., 0., 0., 0., 0., 0., 0., 0., 0., 0., 0., 0., 0.,\n",
              "        0., 0., 1., 0., 0., 0.]),\n",
              " 'ow': array([0., 0., 0., 0., 0., 0., 0., 0., 0., 0., 0., 0., 0., 0., 0., 0., 0.,\n",
              "        0., 0., 0., 0., 0., 0., 0., 0., 1., 0., 0., 0., 0., 0., 0., 0., 0.,\n",
              "        0., 0., 0., 0., 0., 0.]),\n",
              " 'oy': array([0., 0., 0., 0., 0., 0., 0., 0., 0., 0., 0., 0., 0., 0., 0., 0., 0.,\n",
              "        0., 0., 0., 0., 0., 0., 0., 0., 0., 0., 0., 0., 1., 0., 0., 0., 0.,\n",
              "        0., 0., 0., 0., 0., 0.]),\n",
              " 'p': array([0., 0., 0., 0., 0., 0., 0., 0., 0., 0., 0., 0., 0., 0., 0., 0., 0.,\n",
              "        0., 0., 0., 0., 0., 0., 0., 0., 0., 0., 0., 0., 0., 0., 0., 0., 0.,\n",
              "        1., 0., 0., 0., 0., 0.]),\n",
              " 'r': array([0., 1., 0., 0., 0., 0., 0., 0., 0., 0., 0., 0., 0., 0., 0., 0., 0.,\n",
              "        0., 0., 0., 0., 0., 0., 0., 0., 0., 0., 0., 0., 0., 0., 0., 0., 0.,\n",
              "        0., 0., 0., 0., 0., 0.]),\n",
              " 's': array([0., 0., 0., 0., 0., 0., 0., 0., 0., 0., 1., 0., 0., 0., 0., 0., 0.,\n",
              "        0., 0., 0., 0., 0., 0., 0., 0., 0., 0., 0., 0., 0., 0., 0., 0., 0.,\n",
              "        0., 0., 0., 0., 0., 0.]),\n",
              " 'sh': array([0., 0., 0., 0., 0., 0., 0., 0., 0., 0., 0., 0., 0., 0., 0., 0., 0.,\n",
              "        0., 0., 0., 0., 0., 0., 0., 0., 0., 0., 0., 0., 0., 0., 0., 0., 0.,\n",
              "        0., 0., 0., 0., 0., 1.]),\n",
              " 'sil': array([0., 0., 0., 0., 0., 0., 0., 0., 0., 0., 0., 0., 0., 0., 0., 0., 0.,\n",
              "        0., 0., 0., 0., 0., 0., 0., 0., 0., 0., 0., 0., 0., 1., 0., 0., 0.,\n",
              "        0., 0., 0., 0., 0., 0.]),\n",
              " 't': array([0., 0., 0., 0., 0., 1., 0., 0., 0., 0., 0., 0., 0., 0., 0., 0., 0.,\n",
              "        0., 0., 0., 0., 0., 0., 0., 0., 0., 0., 0., 0., 0., 0., 0., 0., 0.,\n",
              "        0., 0., 0., 0., 0., 0.]),\n",
              " 'th': array([0., 0., 0., 0., 0., 0., 0., 0., 0., 0., 0., 0., 0., 0., 0., 0., 0.,\n",
              "        0., 0., 0., 0., 0., 0., 0., 0., 0., 0., 0., 0., 0., 0., 0., 0., 0.,\n",
              "        0., 0., 0., 1., 0., 0.]),\n",
              " 'uh': array([0., 0., 0., 0., 0., 0., 0., 0., 0., 0., 0., 0., 0., 0., 0., 0., 0.,\n",
              "        0., 0., 0., 0., 0., 0., 0., 0., 0., 0., 0., 0., 0., 0., 0., 0., 0.,\n",
              "        0., 1., 0., 0., 0., 0.]),\n",
              " 'uw': array([0., 0., 0., 0., 0., 0., 0., 0., 0., 0., 0., 0., 0., 0., 0., 0., 0.,\n",
              "        0., 0., 0., 0., 0., 0., 0., 0., 0., 1., 0., 0., 0., 0., 0., 0., 0.,\n",
              "        0., 0., 0., 0., 0., 0.]),\n",
              " 'v': array([0., 0., 0., 0., 1., 0., 0., 0., 0., 0., 0., 0., 0., 0., 0., 0., 0.,\n",
              "        0., 0., 0., 0., 0., 0., 0., 0., 0., 0., 0., 0., 0., 0., 0., 0., 0.,\n",
              "        0., 0., 0., 0., 0., 0.]),\n",
              " 'w': array([0., 0., 0., 0., 0., 0., 0., 0., 0., 0., 0., 0., 0., 1., 0., 0., 0.,\n",
              "        0., 0., 0., 0., 0., 0., 0., 0., 0., 0., 0., 0., 0., 0., 0., 0., 0.,\n",
              "        0., 0., 0., 0., 0., 0.]),\n",
              " 'y': array([0., 0., 0., 0., 0., 0., 0., 0., 0., 0., 0., 0., 0., 0., 0., 0., 0.,\n",
              "        0., 1., 0., 0., 0., 0., 0., 0., 0., 0., 0., 0., 0., 0., 0., 0., 0.,\n",
              "        0., 0., 0., 0., 0., 0.]),\n",
              " 'z': array([0., 0., 0., 0., 0., 0., 0., 0., 0., 0., 0., 1., 0., 0., 0., 0., 0.,\n",
              "        0., 0., 0., 0., 0., 0., 0., 0., 0., 0., 0., 0., 0., 0., 0., 0., 0.,\n",
              "        0., 0., 0., 0., 0., 0.]),\n",
              " 'zh': array([0., 0., 0., 0., 0., 0., 0., 0., 0., 0., 0., 0., 0., 0., 0., 0., 0.,\n",
              "        0., 0., 0., 0., 0., 0., 0., 0., 0., 0., 0., 0., 0., 0., 0., 1., 0.,\n",
              "        0., 0., 0., 0., 0., 0.])}"
            ]
          },
          "metadata": {},
          "execution_count": 72
        }
      ]
    },
    {
      "cell_type": "code",
      "metadata": {
        "id": "s3FXM9sgoGnE"
      },
      "source": [
        "final_audio = np.array(audio_array)\n",
        "final_audio = final_audio.reshape(final_audio.shape[0], final_audio.shape[1])"
      ],
      "execution_count": 107,
      "outputs": []
    },
    {
      "cell_type": "code",
      "metadata": {
        "id": "MszYC2DYfpTs"
      },
      "source": [
        "# fit model no training data\n",
        "model = xgboost.XGBClassifier()\n",
        "model.fit(final_audio, label_encoded_y)"
      ],
      "execution_count": null,
      "outputs": []
    },
    {
      "cell_type": "code",
      "metadata": {
        "colab": {
          "base_uri": "https://localhost:8080/"
        },
        "id": "pNC-rO0flULr",
        "outputId": "57cd36a1-bb8c-4d67-883c-3037d1b7983d"
      },
      "source": [
        "phoneme_array[-1]"
      ],
      "execution_count": 92,
      "outputs": [
        {
          "output_type": "execute_result",
          "data": {
            "text/plain": [
              "array([0., 0., 0., 0., 0., 0., 0., 0., 0., 0., 0., 0., 0., 0., 0., 0., 0.,\n",
              "       0., 0., 0., 0., 0., 0., 0., 0., 0., 0., 0., 0., 0., 1., 0., 0., 0.,\n",
              "       0., 0., 0., 0., 0., 0.])"
            ]
          },
          "metadata": {},
          "execution_count": 92
        }
      ]
    },
    {
      "cell_type": "code",
      "metadata": {
        "colab": {
          "base_uri": "https://localhost:8080/"
        },
        "id": "yYs8Tp4flYuA",
        "outputId": "2177d85c-eb2f-4072-ff90-50e58a54a71d"
      },
      "source": [
        "np.array(phoneme_array).shape"
      ],
      "execution_count": 98,
      "outputs": [
        {
          "output_type": "execute_result",
          "data": {
            "text/plain": [
              "(298634, 40)"
            ]
          },
          "metadata": {},
          "execution_count": 98
        }
      ]
    },
    {
      "cell_type": "code",
      "metadata": {
        "colab": {
          "base_uri": "https://localhost:8080/"
        },
        "id": "k57NdBb3nuxW",
        "outputId": "4f7183f2-f083-41d9-c443-ba7e7aa26475"
      },
      "source": [
        "audio_array[3].shape"
      ],
      "execution_count": 105,
      "outputs": [
        {
          "output_type": "execute_result",
          "data": {
            "text/plain": [
              "(129, 1)"
            ]
          },
          "metadata": {},
          "execution_count": 105
        }
      ]
    },
    {
      "cell_type": "code",
      "metadata": {
        "id": "nAB2EcBCmVLc"
      },
      "source": [
        "max_len = 0\n",
        "\n",
        "for i in audio_array:\n",
        "  max_len = len(i)"
      ],
      "execution_count": null,
      "outputs": []
    },
    {
      "cell_type": "code",
      "metadata": {
        "colab": {
          "base_uri": "https://localhost:8080/"
        },
        "id": "3xORTVz-n5kh",
        "outputId": "0d873934-cd62-4578-8e84-c2929c1ed2ce"
      },
      "source": [
        "final_audio.shape"
      ],
      "execution_count": 109,
      "outputs": [
        {
          "output_type": "execute_result",
          "data": {
            "text/plain": [
              "(298634, 129)"
            ]
          },
          "metadata": {},
          "execution_count": 109
        }
      ]
    },
    {
      "cell_type": "code",
      "metadata": {
        "colab": {
          "base_uri": "https://localhost:8080/"
        },
        "id": "k6rANCPJn76w",
        "outputId": "8e6e0fc2-fcc3-4fbc-d9f8-c8439c913cf7"
      },
      "source": [
        "len(phoneme_array)"
      ],
      "execution_count": 110,
      "outputs": [
        {
          "output_type": "execute_result",
          "data": {
            "text/plain": [
              "298634"
            ]
          },
          "metadata": {},
          "execution_count": 110
        }
      ]
    },
    {
      "cell_type": "code",
      "metadata": {
        "colab": {
          "base_uri": "https://localhost:8080/",
          "height": 214
        },
        "id": "OF5cIzcwpUpY",
        "outputId": "c7d0f56f-0d13-44b0-9c6e-e4085bc7e7b0"
      },
      "source": [
        "reverse_dict = {v:k for k,v in one_hot_dict.items()}"
      ],
      "execution_count": 111,
      "outputs": [
        {
          "output_type": "error",
          "ename": "TypeError",
          "evalue": "ignored",
          "traceback": [
            "\u001b[0;31m---------------------------------------------------------------------------\u001b[0m",
            "\u001b[0;31mTypeError\u001b[0m                                 Traceback (most recent call last)",
            "\u001b[0;32m<ipython-input-111-cac3839dc886>\u001b[0m in \u001b[0;36m<module>\u001b[0;34m()\u001b[0m\n\u001b[0;32m----> 1\u001b[0;31m \u001b[0mreverse_dict\u001b[0m \u001b[0;34m=\u001b[0m \u001b[0;34m{\u001b[0m\u001b[0mv\u001b[0m\u001b[0;34m:\u001b[0m\u001b[0mk\u001b[0m \u001b[0;32mfor\u001b[0m \u001b[0mk\u001b[0m\u001b[0;34m,\u001b[0m\u001b[0mv\u001b[0m \u001b[0;32min\u001b[0m \u001b[0mone_hot_dict\u001b[0m\u001b[0;34m.\u001b[0m\u001b[0mitems\u001b[0m\u001b[0;34m(\u001b[0m\u001b[0;34m)\u001b[0m\u001b[0;34m}\u001b[0m\u001b[0;34m\u001b[0m\u001b[0;34m\u001b[0m\u001b[0m\n\u001b[0m",
            "\u001b[0;32m<ipython-input-111-cac3839dc886>\u001b[0m in \u001b[0;36m<dictcomp>\u001b[0;34m(.0)\u001b[0m\n\u001b[0;32m----> 1\u001b[0;31m \u001b[0mreverse_dict\u001b[0m \u001b[0;34m=\u001b[0m \u001b[0;34m{\u001b[0m\u001b[0mv\u001b[0m\u001b[0;34m:\u001b[0m\u001b[0mk\u001b[0m \u001b[0;32mfor\u001b[0m \u001b[0mk\u001b[0m\u001b[0;34m,\u001b[0m\u001b[0mv\u001b[0m \u001b[0;32min\u001b[0m \u001b[0mone_hot_dict\u001b[0m\u001b[0;34m.\u001b[0m\u001b[0mitems\u001b[0m\u001b[0;34m(\u001b[0m\u001b[0;34m)\u001b[0m\u001b[0;34m}\u001b[0m\u001b[0;34m\u001b[0m\u001b[0;34m\u001b[0m\u001b[0m\n\u001b[0m",
            "\u001b[0;31mTypeError\u001b[0m: unhashable type: 'numpy.ndarray'"
          ]
        }
      ]
    },
    {
      "cell_type": "code",
      "metadata": {
        "colab": {
          "base_uri": "https://localhost:8080/"
        },
        "id": "2H-mdeHqpt9U",
        "outputId": "d961d1c5-68d0-42fc-ef95-cd599a207818"
      },
      "source": [
        "int(np.where(phoneme_array[0]==1.)[0])"
      ],
      "execution_count": 117,
      "outputs": [
        {
          "output_type": "execute_result",
          "data": {
            "text/plain": [
              "30"
            ]
          },
          "metadata": {},
          "execution_count": 117
        }
      ]
    },
    {
      "cell_type": "code",
      "metadata": {
        "id": "anRJZbfppOE5"
      },
      "source": [
        "new_phoneme = []\n",
        "for ph in phoneme_array:\n",
        "  new_phoneme.append(int(np.where(ph==1.)[0]))"
      ],
      "execution_count": 118,
      "outputs": []
    },
    {
      "cell_type": "code",
      "metadata": {
        "id": "8MHP41K3odcB"
      },
      "source": [
        "from sklearn.preprocessing import LabelEncoder\n",
        "label_encoder = LabelEncoder()\n",
        "label_encoder = label_encoder.fit(new_phoneme)"
      ],
      "execution_count": 120,
      "outputs": []
    },
    {
      "cell_type": "code",
      "metadata": {
        "id": "MmpjVbYUqLIk"
      },
      "source": [
        "label_encoded_y = label_encoder.transform(new_phoneme)"
      ],
      "execution_count": 122,
      "outputs": []
    },
    {
      "cell_type": "code",
      "metadata": {
        "colab": {
          "base_uri": "https://localhost:8080/"
        },
        "id": "VV9mrnHYqL6p",
        "outputId": "bf41ad1b-a0c0-4079-c437-39f98facf562"
      },
      "source": [
        "label_encoded_y.shape"
      ],
      "execution_count": 124,
      "outputs": [
        {
          "output_type": "execute_result",
          "data": {
            "text/plain": [
              "(298634,)"
            ]
          },
          "metadata": {},
          "execution_count": 124
        }
      ]
    },
    {
      "cell_type": "code",
      "metadata": {
        "id": "WbYO980yqSkJ"
      },
      "source": [
        ""
      ],
      "execution_count": null,
      "outputs": []
    }
  ]
}