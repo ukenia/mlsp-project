{
  "nbformat": 4,
  "nbformat_minor": 0,
  "metadata": {
    "colab": {
      "name": "MCD.ipynb",
      "provenance": [],
      "machine_shape": "hm",
      "collapsed_sections": []
    },
    "kernelspec": {
      "name": "python3",
      "display_name": "Python 3"
    },
    "language_info": {
      "name": "python"
    }
  },
  "cells": [
    {
      "cell_type": "code",
      "execution_count": null,
      "metadata": {
        "id": "sjs5pkmThRDY"
      },
      "outputs": [],
      "source": [
        "import numpy as np\n",
        "import random\n",
        "from google.colab import drive\n",
        "import json\n",
        "import time\n",
        "import pandas as pd\n",
        "import os\n",
        "import sys\n",
        "import librosa\n",
        "import soundfile as sf\n",
        "import xgboost\n",
        "from sklearn.preprocessing import LabelEncoder\n",
        "from sklearn.model_selection import train_test_split\n",
        "from sklearn.metrics import accuracy_score\n",
        "from matplotlib import pyplot"
      ]
    },
    {
      "cell_type": "code",
      "source": [
        "drive.mount('/content/gdrive')"
      ],
      "metadata": {
        "colab": {
          "base_uri": "https://localhost:8080/",
          "height": 312
        },
        "id": "Y7XrYzKwhTJ5",
        "outputId": "d0b0ea81-f4e7-42a7-92a6-1adaad89702f"
      },
      "execution_count": null,
      "outputs": [
        {
          "output_type": "error",
          "ename": "MessageError",
          "evalue": "ignored",
          "traceback": [
            "\u001b[0;31m---------------------------------------------------------------------------\u001b[0m",
            "\u001b[0;31mMessageError\u001b[0m                              Traceback (most recent call last)",
            "\u001b[0;32m<ipython-input-3-837f90cc644e>\u001b[0m in \u001b[0;36m<module>\u001b[0;34m()\u001b[0m\n\u001b[0;32m----> 1\u001b[0;31m \u001b[0mdrive\u001b[0m\u001b[0;34m.\u001b[0m\u001b[0mmount\u001b[0m\u001b[0;34m(\u001b[0m\u001b[0;34m'/content/gdrive'\u001b[0m\u001b[0;34m)\u001b[0m\u001b[0;34m\u001b[0m\u001b[0;34m\u001b[0m\u001b[0m\n\u001b[0m",
            "\u001b[0;32m/usr/local/lib/python3.7/dist-packages/google/colab/drive.py\u001b[0m in \u001b[0;36mmount\u001b[0;34m(mountpoint, force_remount, timeout_ms, use_metadata_server)\u001b[0m\n\u001b[1;32m    111\u001b[0m       \u001b[0mtimeout_ms\u001b[0m\u001b[0;34m=\u001b[0m\u001b[0mtimeout_ms\u001b[0m\u001b[0;34m,\u001b[0m\u001b[0;34m\u001b[0m\u001b[0;34m\u001b[0m\u001b[0m\n\u001b[1;32m    112\u001b[0m       \u001b[0muse_metadata_server\u001b[0m\u001b[0;34m=\u001b[0m\u001b[0muse_metadata_server\u001b[0m\u001b[0;34m,\u001b[0m\u001b[0;34m\u001b[0m\u001b[0;34m\u001b[0m\u001b[0m\n\u001b[0;32m--> 113\u001b[0;31m       ephemeral=ephemeral)\n\u001b[0m\u001b[1;32m    114\u001b[0m \u001b[0;34m\u001b[0m\u001b[0m\n\u001b[1;32m    115\u001b[0m \u001b[0;34m\u001b[0m\u001b[0m\n",
            "\u001b[0;32m/usr/local/lib/python3.7/dist-packages/google/colab/drive.py\u001b[0m in \u001b[0;36m_mount\u001b[0;34m(mountpoint, force_remount, timeout_ms, use_metadata_server, ephemeral)\u001b[0m\n\u001b[1;32m    134\u001b[0m   \u001b[0;32mif\u001b[0m \u001b[0mephemeral\u001b[0m\u001b[0;34m:\u001b[0m\u001b[0;34m\u001b[0m\u001b[0;34m\u001b[0m\u001b[0m\n\u001b[1;32m    135\u001b[0m     _message.blocking_request(\n\u001b[0;32m--> 136\u001b[0;31m         'request_auth', request={'authType': 'dfs_ephemeral'}, timeout_sec=None)\n\u001b[0m\u001b[1;32m    137\u001b[0m \u001b[0;34m\u001b[0m\u001b[0m\n\u001b[1;32m    138\u001b[0m   \u001b[0mmountpoint\u001b[0m \u001b[0;34m=\u001b[0m \u001b[0m_os\u001b[0m\u001b[0;34m.\u001b[0m\u001b[0mpath\u001b[0m\u001b[0;34m.\u001b[0m\u001b[0mexpanduser\u001b[0m\u001b[0;34m(\u001b[0m\u001b[0mmountpoint\u001b[0m\u001b[0;34m)\u001b[0m\u001b[0;34m\u001b[0m\u001b[0;34m\u001b[0m\u001b[0m\n",
            "\u001b[0;32m/usr/local/lib/python3.7/dist-packages/google/colab/_message.py\u001b[0m in \u001b[0;36mblocking_request\u001b[0;34m(request_type, request, timeout_sec, parent)\u001b[0m\n\u001b[1;32m    173\u001b[0m   request_id = send_request(\n\u001b[1;32m    174\u001b[0m       request_type, request, parent=parent, expect_reply=True)\n\u001b[0;32m--> 175\u001b[0;31m   \u001b[0;32mreturn\u001b[0m \u001b[0mread_reply_from_input\u001b[0m\u001b[0;34m(\u001b[0m\u001b[0mrequest_id\u001b[0m\u001b[0;34m,\u001b[0m \u001b[0mtimeout_sec\u001b[0m\u001b[0;34m)\u001b[0m\u001b[0;34m\u001b[0m\u001b[0;34m\u001b[0m\u001b[0m\n\u001b[0m",
            "\u001b[0;32m/usr/local/lib/python3.7/dist-packages/google/colab/_message.py\u001b[0m in \u001b[0;36mread_reply_from_input\u001b[0;34m(message_id, timeout_sec)\u001b[0m\n\u001b[1;32m    104\u001b[0m         reply.get('colab_msg_id') == message_id):\n\u001b[1;32m    105\u001b[0m       \u001b[0;32mif\u001b[0m \u001b[0;34m'error'\u001b[0m \u001b[0;32min\u001b[0m \u001b[0mreply\u001b[0m\u001b[0;34m:\u001b[0m\u001b[0;34m\u001b[0m\u001b[0;34m\u001b[0m\u001b[0m\n\u001b[0;32m--> 106\u001b[0;31m         \u001b[0;32mraise\u001b[0m \u001b[0mMessageError\u001b[0m\u001b[0;34m(\u001b[0m\u001b[0mreply\u001b[0m\u001b[0;34m[\u001b[0m\u001b[0;34m'error'\u001b[0m\u001b[0;34m]\u001b[0m\u001b[0;34m)\u001b[0m\u001b[0;34m\u001b[0m\u001b[0;34m\u001b[0m\u001b[0m\n\u001b[0m\u001b[1;32m    107\u001b[0m       \u001b[0;32mreturn\u001b[0m \u001b[0mreply\u001b[0m\u001b[0;34m.\u001b[0m\u001b[0mget\u001b[0m\u001b[0;34m(\u001b[0m\u001b[0;34m'data'\u001b[0m\u001b[0;34m,\u001b[0m \u001b[0;32mNone\u001b[0m\u001b[0;34m)\u001b[0m\u001b[0;34m\u001b[0m\u001b[0;34m\u001b[0m\u001b[0m\n\u001b[1;32m    108\u001b[0m \u001b[0;34m\u001b[0m\u001b[0m\n",
            "\u001b[0;31mMessageError\u001b[0m: Error: credential propagation was unsuccessful"
          ]
        }
      ]
    },
    {
      "cell_type": "code",
      "source": [
        "y1, sr1 = librosa.load(\"/content/gdrive/MyDrive/MLSP_project/outputs/f0_dur_control_out/best_1.wav\")\n",
        "# mfc1 = librosa.feature.mfcc(y=y1, sr=sr1)"
      ],
      "metadata": {
        "id": "c-bS9dx2hSHD"
      },
      "execution_count": null,
      "outputs": []
    },
    {
      "cell_type": "code",
      "source": [
        "!sudo pip install mcd"
      ],
      "metadata": {
        "id": "bkae9lYniJ7x"
      },
      "execution_count": null,
      "outputs": []
    },
    {
      "cell_type": "code",
      "source": [
        "!pip install fastdtw"
      ],
      "metadata": {
        "id": "fu9zCoeIibfC"
      },
      "execution_count": null,
      "outputs": []
    },
    {
      "cell_type": "code",
      "source": [
        "import fastdtw\n",
        "from scipy.spatial.distance import euclidean"
      ],
      "metadata": {
        "id": "0HSMkmpojrkU"
      },
      "execution_count": null,
      "outputs": []
    },
    {
      "cell_type": "code",
      "source": [
        "mcd1 = fastdtw.dtw(y1[0:1000], y2[0:1000], dist=euclidean)"
      ],
      "metadata": {
        "id": "QnCqvIygiepn"
      },
      "execution_count": null,
      "outputs": []
    },
    {
      "cell_type": "code",
      "source": [
        "import math"
      ],
      "metadata": {
        "id": "ONjCjJMPk44E"
      },
      "execution_count": null,
      "outputs": []
    },
    {
      "cell_type": "code",
      "source": [
        "y1.shape"
      ],
      "metadata": {
        "colab": {
          "base_uri": "https://localhost:8080/"
        },
        "id": "rbrCRqFc_xkD",
        "outputId": "f3ab69f6-6a21-4293-88b2-687df97f22dc"
      },
      "execution_count": null,
      "outputs": [
        {
          "output_type": "execute_result",
          "data": {
            "text/plain": [
              "(1403042,)"
            ]
          },
          "metadata": {},
          "execution_count": 10
        }
      ]
    },
    {
      "cell_type": "code",
      "source": [
        "y1[1400000:1403043]"
      ],
      "metadata": {
        "colab": {
          "base_uri": "https://localhost:8080/"
        },
        "id": "0oyx1iYo_6vC",
        "outputId": "60938abe-872d-4ac8-e3d8-05b99e3efd8e"
      },
      "execution_count": null,
      "outputs": [
        {
          "output_type": "execute_result",
          "data": {
            "text/plain": [
              "array([-2.3145201e-05,  1.0829617e-06, -1.8605877e-05, ...,\n",
              "       -3.1277406e-05, -3.1712309e-05,  0.0000000e+00], dtype=float32)"
            ]
          },
          "metadata": {},
          "execution_count": 11
        }
      ]
    },
    {
      "cell_type": "code",
      "source": [
        "tot_mcd = 0.\n",
        "for i in range(0,y1.shape[0],1000):\n",
        "  if i % 10000 == 0:\n",
        "    print(i)\n",
        "  tot_mcd += fastdtw.dtw(y1[i:i+1000],y2[i:i+1000],dist=euclidean)[0]"
      ],
      "metadata": {
        "id": "BEC1YSMs_0bZ"
      },
      "execution_count": null,
      "outputs": []
    },
    {
      "cell_type": "code",
      "source": [
        "y3, sr3 = librosa.load(\"/content/gdrive/MyDrive/MLSP_project/outputs/f0_dur_control_out/12_7_21_no_dur_cont_0.wav\")\n",
        "mfc3 = librosa.feature.mfcc(y=y3, sr=sr3)"
      ],
      "metadata": {
        "id": "tfKEaEeOi9JM"
      },
      "execution_count": null,
      "outputs": []
    },
    {
      "cell_type": "code",
      "source": [
        "print(y2.shape)\n",
        "print(y3.shape)"
      ],
      "metadata": {
        "colab": {
          "base_uri": "https://localhost:8080/"
        },
        "id": "M2csMLOtkEM-",
        "outputId": "61399693-460c-4ef8-c490-e168ab959a55"
      },
      "execution_count": null,
      "outputs": [
        {
          "output_type": "stream",
          "name": "stdout",
          "text": [
            "(1403160,)\n",
            "(451253,)\n"
          ]
        }
      ]
    },
    {
      "cell_type": "code",
      "source": [
        "fastdtw.dtw(mfc3, mfc2, dist=euclidean)"
      ],
      "metadata": {
        "id": "LkBQjG9Ij98L"
      },
      "execution_count": null,
      "outputs": []
    },
    {
      "cell_type": "code",
      "source": [
        "import scipy.io.wavfile as wavfile\n",
        "import numpy\n",
        "import os.path\n",
        "import scipy.stats as stats\n",
        "\n",
        "def snr(file):\n",
        "  if (os.path.isfile(file)):\n",
        "    data = wavfile.read(file)[1]\n",
        "    singleChannel = data\n",
        "    try:\n",
        "      singleChannel = numpy.sum(data, axis=1)\n",
        "    except:\n",
        "      # was mono after all\n",
        "      pass\n",
        "      \n",
        "    norm = singleChannel / (max(numpy.amax(singleChannel), -1 * numpy.amin(singleChannel)))\n",
        "    return stats.signaltonoise(norm)"
      ],
      "metadata": {
        "id": "JJ220gEHkAs6"
      },
      "execution_count": null,
      "outputs": []
    },
    {
      "cell_type": "code",
      "source": [
        "snr(\"/content/gdrive/MyDrive/MLSP_project/outputs/f0_dur_control_out/12_7_21_no_dur_cont_0.wav\")"
      ],
      "metadata": {
        "id": "WSUsiyI4GW-P"
      },
      "execution_count": null,
      "outputs": []
    },
    {
      "cell_type": "code",
      "source": [
        "def signaltonoise(a, axis = 0, ddof = 0):\n",
        "  a = np.asanyarray(a)\n",
        "  m = a.mean(axis)\n",
        "  sd = a.std(axis = axis, ddof = ddof)\n",
        "  return np.where(sd == 0, 0, m / sd)"
      ],
      "metadata": {
        "id": "UTKcAgXXGwFU"
      },
      "execution_count": null,
      "outputs": []
    },
    {
      "cell_type": "code",
      "source": [
        "y1, sr1 = librosa.load(\"/content/gdrive/MyDrive/nus-smc-corpus_48/ADIZ/sing/01.wav\")\n",
        "spectrogram1 = librosa.stft(y1, n_fft=1024, hop_length=512, center=False, win_length=1024)\n",
        "M1 = abs(spectrogram1)"
      ],
      "metadata": {
        "id": "FZNYdZloHeLn"
      },
      "execution_count": null,
      "outputs": []
    },
    {
      "cell_type": "code",
      "source": [
        "y2, sr2 = librosa.load(\"/content/gdrive/MyDrive/nus-smc-corpus_48/ADIZ/sing/01.wav\")\n",
        "spectrogram2 = librosa.stft(y2, n_fft=1024, hop_length=512, center=False, win_length=1024)\n",
        "M2 = abs(spectrogram2)"
      ],
      "metadata": {
        "id": "3MCtAGFWKgCK"
      },
      "execution_count": null,
      "outputs": []
    },
    {
      "cell_type": "code",
      "source": [
        "(np.linalg.norm(np.dot(M2.T,M1))/np.linalg.norm(M2)/np.linalg.norm(M1))/(np.linalg.norm(np.dot(M2.T,M2))/np.linalg.norm(M2)/np.linalg.norm(M2))"
      ],
      "metadata": {
        "colab": {
          "base_uri": "https://localhost:8080/"
        },
        "id": "GjsDI0opKjXo",
        "outputId": "1f0e9342-e7d0-441d-bf02-0d400294ab04"
      },
      "execution_count": null,
      "outputs": [
        {
          "output_type": "execute_result",
          "data": {
            "text/plain": [
              "0.8144439"
            ]
          },
          "metadata": {},
          "execution_count": 68
        }
      ]
    },
    {
      "cell_type": "code",
      "source": [
        "spectrogram3 = librosa.stft(y3, n_fft=1024, hop_length=512, center=False, win_length=1024)\n",
        "M3 = abs(spectrogram3)\n",
        "(np.linalg.norm(np.dot(M2.T,M3))/np.linalg.norm(M2)/np.linalg.norm(M3))/(np.linalg.norm(np.dot(M2.T,M2))/np.linalg.norm(M2)/np.linalg.norm(M2))"
      ],
      "metadata": {
        "colab": {
          "base_uri": "https://localhost:8080/"
        },
        "id": "zit7lDtyKlBq",
        "outputId": "5e6599bc-2a96-4379-f976-d8798bc0a25a"
      },
      "execution_count": null,
      "outputs": [
        {
          "output_type": "execute_result",
          "data": {
            "text/plain": [
              "0.7277107"
            ]
          },
          "metadata": {},
          "execution_count": 69
        }
      ]
    },
    {
      "cell_type": "code",
      "source": [
        "np.linalg.norm(np.dot(M2.T,M2))/np.linalg.norm(M2)/np.linalg.norm(M2)"
      ],
      "metadata": {
        "colab": {
          "base_uri": "https://localhost:8080/"
        },
        "id": "QaLRUUqsK0Gw",
        "outputId": "7e14223d-0ebe-422c-db89-4c18b57df1e5"
      },
      "execution_count": null,
      "outputs": [
        {
          "output_type": "execute_result",
          "data": {
            "text/plain": [
              "0.38097376"
            ]
          },
          "metadata": {},
          "execution_count": 66
        }
      ]
    },
    {
      "cell_type": "code",
      "source": [
        "pmark_recon, sr4 = librosa.load(\"/content/project (9).wav\")\n",
        "spectrogram4 = librosa.stft(pmark_recon, n_fft=1024, hop_length=512, center=False, win_length=1024)\n",
        "M4 = abs(spectrogram4)"
      ],
      "metadata": {
        "id": "PQlrbCnhLBx3"
      },
      "execution_count": null,
      "outputs": []
    },
    {
      "cell_type": "code",
      "source": [
        ""
      ],
      "metadata": {
        "id": "uYTskRZzVCE-"
      },
      "execution_count": null,
      "outputs": []
    },
    {
      "cell_type": "code",
      "source": [
        "pmark, sr5 = librosa.load(\"/content/gdrive/MyDrive/nus-smc-corpus_48/PMAR/sing/05.wav\")\n",
        "spectrogram5 = librosa.stft(pmark, n_fft=1024, hop_length=512, center=False, win_length=1024)\n",
        "M5 = abs(spectrogram5)"
      ],
      "metadata": {
        "id": "y8biX-ohNF8P"
      },
      "execution_count": null,
      "outputs": []
    },
    {
      "cell_type": "code",
      "source": [
        "print(M4.shape)\n",
        "print(M5.shape)"
      ],
      "metadata": {
        "colab": {
          "base_uri": "https://localhost:8080/"
        },
        "id": "KvSLrsGmNSr7",
        "outputId": "c5e5121f-48a6-4f57-8684-27dfc19d4a6b"
      },
      "execution_count": null,
      "outputs": [
        {
          "output_type": "stream",
          "name": "stdout",
          "text": [
            "(513, 7469)\n",
            "(513, 8167)\n"
          ]
        }
      ]
    },
    {
      "cell_type": "code",
      "source": [
        "(np.linalg.norm(np.dot(M5.T,M4))/np.linalg.norm(M5)/np.linalg.norm(M4))/(np.linalg.norm(np.dot(M5.T,M5))/np.linalg.norm(M5)/np.linalg.norm(M5))"
      ],
      "metadata": {
        "colab": {
          "base_uri": "https://localhost:8080/"
        },
        "id": "CRDafvfONYYb",
        "outputId": "696c2731-3dcf-44b4-a251-921b1bfc06bd"
      },
      "execution_count": null,
      "outputs": [
        {
          "output_type": "execute_result",
          "data": {
            "text/plain": [
              "0.754658"
            ]
          },
          "metadata": {},
          "execution_count": 74
        }
      ]
    },
    {
      "cell_type": "code",
      "source": [
        "np.linalg.norm(np.dot(M5.T,M5))/np.linalg.norm(M5)/np.linalg.norm(M5)"
      ],
      "metadata": {
        "colab": {
          "base_uri": "https://localhost:8080/"
        },
        "id": "5nH6f4bkNeTI",
        "outputId": "22e67102-3ab1-46df-c106-060038e90559"
      },
      "execution_count": null,
      "outputs": [
        {
          "output_type": "execute_result",
          "data": {
            "text/plain": [
              "0.35516483"
            ]
          },
          "metadata": {},
          "execution_count": 75
        }
      ]
    },
    {
      "cell_type": "code",
      "source": [
        ""
      ],
      "metadata": {
        "id": "_53ksNywNzOX"
      },
      "execution_count": null,
      "outputs": []
    }
  ]
}