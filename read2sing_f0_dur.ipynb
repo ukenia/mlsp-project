{
  "nbformat": 4,
  "nbformat_minor": 0,
  "metadata": {
    "colab": {
      "name": "read2sing_f0_dur.ipynb",
      "provenance": [],
      "collapsed_sections": []
    },
    "kernelspec": {
      "name": "python3",
      "display_name": "Python 3"
    },
    "language_info": {
      "name": "python"
    }
  },
  "cells": [
    {
      "cell_type": "code",
      "metadata": {
        "colab": {
          "base_uri": "https://localhost:8080/"
        },
        "id": "M0uwVNZ-r5pn",
        "outputId": "a6c03bb6-2415-4fc0-9de8-cc74ecc54622"
      },
      "source": [
        "!pip install -q pyworld"
      ],
      "execution_count": 2,
      "outputs": [
        {
          "output_type": "stream",
          "name": "stdout",
          "text": [
            "\u001b[?25l\r\u001b[K     |█▌                              | 10 kB 24.3 MB/s eta 0:00:01\r\u001b[K     |███                             | 20 kB 28.1 MB/s eta 0:00:01\r\u001b[K     |████▋                           | 30 kB 19.6 MB/s eta 0:00:01\r\u001b[K     |██████▏                         | 40 kB 13.9 MB/s eta 0:00:01\r\u001b[K     |███████▊                        | 51 kB 5.4 MB/s eta 0:00:01\r\u001b[K     |█████████▎                      | 61 kB 5.6 MB/s eta 0:00:01\r\u001b[K     |██████████▉                     | 71 kB 5.3 MB/s eta 0:00:01\r\u001b[K     |████████████▍                   | 81 kB 5.9 MB/s eta 0:00:01\r\u001b[K     |██████████████                  | 92 kB 5.8 MB/s eta 0:00:01\r\u001b[K     |███████████████▌                | 102 kB 5.1 MB/s eta 0:00:01\r\u001b[K     |█████████████████               | 112 kB 5.1 MB/s eta 0:00:01\r\u001b[K     |██████████████████▌             | 122 kB 5.1 MB/s eta 0:00:01\r\u001b[K     |████████████████████            | 133 kB 5.1 MB/s eta 0:00:01\r\u001b[K     |█████████████████████▋          | 143 kB 5.1 MB/s eta 0:00:01\r\u001b[K     |███████████████████████▏        | 153 kB 5.1 MB/s eta 0:00:01\r\u001b[K     |████████████████████████▊       | 163 kB 5.1 MB/s eta 0:00:01\r\u001b[K     |██████████████████████████▎     | 174 kB 5.1 MB/s eta 0:00:01\r\u001b[K     |███████████████████████████▉    | 184 kB 5.1 MB/s eta 0:00:01\r\u001b[K     |█████████████████████████████▍  | 194 kB 5.1 MB/s eta 0:00:01\r\u001b[K     |███████████████████████████████ | 204 kB 5.1 MB/s eta 0:00:01\r\u001b[K     |████████████████████████████████| 212 kB 5.1 MB/s \n",
            "\u001b[?25h  Installing build dependencies ... \u001b[?25l\u001b[?25hdone\n",
            "  Getting requirements to build wheel ... \u001b[?25l\u001b[?25hdone\n",
            "    Preparing wheel metadata ... \u001b[?25l\u001b[?25hdone\n",
            "  Building wheel for pyworld (PEP 517) ... \u001b[?25l\u001b[?25hdone\n"
          ]
        }
      ]
    },
    {
      "cell_type": "code",
      "metadata": {
        "colab": {
          "base_uri": "https://localhost:8080/"
        },
        "id": "FTr3gvcgr8J-",
        "outputId": "b863219c-dba7-46f5-b1ea-fcb06a4c0ac1"
      },
      "source": [
        "from google.colab import drive\n",
        "drive.mount('/content/drive')"
      ],
      "execution_count": 3,
      "outputs": [
        {
          "output_type": "stream",
          "name": "stdout",
          "text": [
            "Mounted at /content/drive\n"
          ]
        }
      ]
    },
    {
      "cell_type": "code",
      "metadata": {
        "id": "_B4Um9Cj-lTp"
      },
      "source": [
        "num = 0"
      ],
      "execution_count": 77,
      "outputs": []
    },
    {
      "cell_type": "code",
      "metadata": {
        "id": "BIwcI8nBr0tp"
      },
      "source": [
        "import pyworld as pw\n",
        "import librosa\n",
        "import numpy as np\n",
        "import matplotlib.pyplot as plt\n",
        "import soundfile as sf\n",
        "import pandas as pd"
      ],
      "execution_count": 78,
      "outputs": []
    },
    {
      "cell_type": "code",
      "metadata": {
        "id": "c-GFr9CRsBe8"
      },
      "source": [
        "path = '/content/drive/MyDrive/nus-smc-corpus_48/ADIZ'"
      ],
      "execution_count": 79,
      "outputs": []
    },
    {
      "cell_type": "code",
      "metadata": {
        "id": "Ywp6x4Cbr2I1"
      },
      "source": [
        "Adiz_read, fs = librosa.load(path +'/read/01.wav', sr = None)\n",
        "f0, sp, ap = pw.wav2world(Adiz_read.astype(float), fs)"
      ],
      "execution_count": 80,
      "outputs": []
    },
    {
      "cell_type": "code",
      "metadata": {
        "id": "rCJdTw76saxZ"
      },
      "source": [
        "Adiz_sing, fs1 = librosa.load(path + '/sing/01.wav', sr = None)\n",
        "f01, sp1, ap1 = pw.wav2world(Adiz_sing.astype(float), fs1)"
      ],
      "execution_count": 81,
      "outputs": []
    },
    {
      "cell_type": "code",
      "metadata": {
        "id": "a6pRNysEuaFz"
      },
      "source": [
        "read_df = pd.read_csv(path + \"/read/01.txt\", delimiter=\" \", header=None, names=['start', 'end', 'phoneme'])\n",
        "# samf_path = '/content/drive/MyDrive/nus-smc-corpus_48/SAMF/read'\n",
        "# read_df = pd.read_csv(samf_path + \"/01.txt\", delimiter=\" \", header=None, names=['start', 'end', 'phoneme'])\n",
        "# Samf_read, fs = librosa.load(samf_path +'/01.wav', sr = None)\n",
        "\n",
        "sing_df = pd.read_csv(path + \"/sing/01.txt\", delimiter=\" \", header=None, names=['start', 'end', 'phoneme'])"
      ],
      "execution_count": 82,
      "outputs": []
    },
    {
      "cell_type": "code",
      "metadata": {
        "id": "4fEnY1V5uXF4"
      },
      "source": [
        "# t_read = librosa.get_duration(y=Adiz_read, sr=fs)\n",
        "# t_sing = librosa.get_duration(y=Adiz_sing, sr=fs1)\n",
        "# new_Adiz_read = librosa.effects.time_stretch(Adiz_read, t_read/t_sing)\n",
        "# f0, spx, apx = pw.wav2world(new_Adiz_read.astype(float), fs)\n",
        "# y = pw.synthesize(f01, spx, apx, fs)\n",
        "# sf.write(\"project.wav\", y, fs)"
      ],
      "execution_count": 25,
      "outputs": []
    },
    {
      "cell_type": "code",
      "metadata": {
        "colab": {
          "base_uri": "https://localhost:8080/"
        },
        "id": "JrRny-ywxlts",
        "outputId": "ad160d45-3f98-416d-9b15-99eeefa4053e"
      },
      "source": [
        "prev = 0\n",
        "read = []\n",
        "for i in range(len(read_df)):\n",
        "  dur_read = read_df['end'][i] - read_df['start'][i]\n",
        "  dur_sing = sing_df['end'][i] - sing_df['start'][i]\n",
        "  cur = int(dur_read*fs)+prev\n",
        "\n",
        "  y = Adiz_read[prev:cur]\n",
        "  rate = dur_read/dur_sing\n",
        "  stft = librosa.core.stft(y, n_fft = 512)\n",
        "  stft_stretch = librosa.core.phase_vocoder(stft, rate)\n",
        "  len_stretch = int(round(len(y) / rate))\n",
        "  Adiz_new_read = librosa.core.istft(stft_stretch, dtype=y.dtype, length=len_stretch)\n",
        "\n",
        "  # Adiz_new_read = librosa.effects.time_stretch(Adiz_read[prev:cur], dur_read/dur_sing)\n",
        "  if sing_df['phoneme'][i] == 'sil':\n",
        "    Adiz_read[prev:cur] = 0\n",
        "  read.append(Adiz_new_read)\n",
        "  prev = cur"
      ],
      "execution_count": 84,
      "outputs": [
        {
          "output_type": "stream",
          "name": "stderr",
          "text": [
            "/usr/local/lib/python3.7/dist-packages/ipykernel_launcher.py:9: RuntimeWarning: divide by zero encountered in double_scalars\n",
            "  if __name__ == '__main__':\n"
          ]
        }
      ]
    },
    {
      "cell_type": "code",
      "metadata": {
        "colab": {
          "base_uri": "https://localhost:8080/"
        },
        "id": "A0hZieGK0jXr",
        "outputId": "1cce026b-246e-458d-efb0-ee4bb96e8ea5"
      },
      "source": [
        "read = np.hstack(np.asarray(read))\n",
        "read_f0, read_sp, read_ap = pw.wav2world(read.astype(float), fs)"
      ],
      "execution_count": 85,
      "outputs": [
        {
          "output_type": "stream",
          "name": "stderr",
          "text": [
            "/usr/local/lib/python3.7/dist-packages/numpy/core/_asarray.py:83: VisibleDeprecationWarning: Creating an ndarray from ragged nested sequences (which is a list-or-tuple of lists-or-tuples-or ndarrays with different lengths or shapes) is deprecated. If you meant to do this, you must specify 'dtype=object' when creating the ndarray\n",
            "  return array(a, dtype, copy=False, order=order)\n"
          ]
        }
      ]
    },
    {
      "cell_type": "code",
      "metadata": {
        "id": "zJP5A5Jp1Bb6"
      },
      "source": [
        "num += 1\n",
        "y = pw.synthesize(f01[:len(read_f0)], read_sp, read_ap, fs)\n",
        "save_path = '/content/drive/MyDrive/MLSP_project/outputs/f0_dur_control_out/'\n",
        "sf.write(save_path + \"project_{}\".format(num)+'.wav', y, fs)"
      ],
      "execution_count": 86,
      "outputs": []
    }
  ]
}